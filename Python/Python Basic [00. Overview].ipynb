{
 "cells": [
  {
   "cell_type": "markdown",
   "metadata": {},
   "source": [
    "# Overview"
   ]
  },
  {
   "cell_type": "code",
   "execution_count": 1,
   "metadata": {},
   "outputs": [
    {
     "name": "stdout",
     "output_type": "stream",
     "text": [
      "Python의 예약어 : ['False', 'None', 'True', 'and', 'as', 'assert', 'break', 'class', 'continue', 'def', 'del', 'elif', 'else', 'except', 'finally', 'for', 'from', 'global', 'if', 'import', 'in', 'is', 'lambda', 'nonlocal', 'not', 'or', 'pass', 'raise', 'return', 'try', 'while', 'with', 'yield']\n"
     ]
    }
   ],
   "source": [
    "# 예약어 \n",
    "# Python의 예약어로 지정되어 있는 단어들은 식별자로 사용할 수 없다.\n",
    "import keyword\n",
    "print(\"Python의 예약어 :\",keyword.kwlist)"
   ]
  },
  {
   "cell_type": "code",
   "execution_count": 2,
   "metadata": {},
   "outputs": [
    {
     "name": "stdout",
     "output_type": "stream",
     "text": [
      "a는 1이고, b는 3이 맞습니다.\n"
     ]
    }
   ],
   "source": [
    "# 연속라인\n",
    "a, b = 1, 3\n",
    "if (a == 1) and \\\n",
    "   (b == 3) : \n",
    "       print(\"a는 1이고, b는 3이 맞습니다.\")"
   ]
  },
  {
   "cell_type": "code",
   "execution_count": 3,
   "metadata": {},
   "outputs": [
    {
     "name": "stdout",
     "output_type": "stream",
     "text": [
      " a는 1이고, b는 3이 맞습니다.\n"
     ]
    }
   ],
   "source": [
    "# 연속라인을 사용하지 않은 일반적인 조건문      \n",
    "if (a == 1) and (b == 3) : \n",
    "       print(\" a는 1이고, b는 3이 맞습니다.\")"
   ]
  },
  {
   "cell_type": "code",
   "execution_count": 4,
   "metadata": {},
   "outputs": [
    {
     "name": "stdout",
     "output_type": "stream",
     "text": [
      "a : 12 , b : 16\n",
      "a : 0 , b : 0 ,c : 0\n",
      "a : 17 , b : 16\n"
     ]
    }
   ],
   "source": [
    "# 여러개의 변수를 한 번에 입력하는 방법\n",
    "a,b = 12, 16\n",
    "print(\"a :\", a, \", b :\", b)\n",
    "a = b = c = 0\n",
    "print(\"a :\", a, \", b :\", b, \",c :\", c)\n",
    "a = 17; b = 16\n",
    "print(\"a :\", a, \", b :\", b)"
   ]
  },
  {
   "cell_type": "code",
   "execution_count": 5,
   "metadata": {},
   "outputs": [
    {
     "name": "stdout",
     "output_type": "stream",
     "text": [
      "x : [1, 2, 3]\n",
      "y : [10, [1, 2, 3], 20]\n",
      "z : ['a', [1, 2, 3], 'b']\n"
     ]
    }
   ],
   "source": [
    "# 변수와 값 객체 분리의 side effect(객체공유)\n",
    "x = [1,2,3];   y = [10,x,20];   z = [\"a\", x, \"b\"]\n",
    "print(\"x :\",x); print(\"y :\",y); print(\"z :\",z)"
   ]
  },
  {
   "cell_type": "code",
   "execution_count": 6,
   "metadata": {},
   "outputs": [
    {
     "name": "stdout",
     "output_type": "stream",
     "text": [
      "x value : 5\n",
      "x value : 8\n"
     ]
    }
   ],
   "source": [
    "# 문자열 Python 식 (expression) 실행 : eval()\n",
    "x = 2\n",
    "x = eval(\"x + 3\")\n",
    "print(\"x value :\",x)\n",
    "\n",
    "# 문자열 Python 문 (statement) 실행 : exec\n",
    "exec(\"x = x + 3\")\n",
    "print(\"x value :\",x)"
   ]
  },
  {
   "cell_type": "code",
   "execution_count": 7,
   "metadata": {},
   "outputs": [
    {
     "name": "stdout",
     "output_type": "stream",
     "text": [
      "What is your name? : park sang hee\n",
      "What is your age? : 25\n",
      "\n",
      "Your name is park sang hee and Your age is 25 !!!\n"
     ]
    }
   ],
   "source": [
    "# 키보드로부터 문자열 입력받기\n",
    "name = input(\"What is your name? : \")\n",
    "\n",
    "# 키보드로부터 숫자 입력받기\n",
    "age = int(input(\"What is your age? : \"))\n",
    "\n",
    "print(\"\\nYour name is {} and Your age is {} !!!\" .format(name, age))"
   ]
  },
  {
   "cell_type": "code",
   "execution_count": 8,
   "metadata": {},
   "outputs": [
    {
     "name": "stdout",
     "output_type": "stream",
     "text": [
      "add = 9 sub = -1\n"
     ]
    }
   ],
   "source": [
    "# Console 출력\n",
    "print(\"add =\",4+5, \"sub =\", 4-5)"
   ]
  },
  {
   "cell_type": "code",
   "execution_count": 9,
   "metadata": {},
   "outputs": [
    {
     "name": "stdout",
     "output_type": "stream",
     "text": [
      "1 2\n",
      "3 4\n",
      "1 2 3 4\n",
      "1, 2, 3, 4\n",
      "1,\t2,\t3,\t4\n"
     ]
    }
   ],
   "source": [
    "# print()는 출력 후 줄이 바뀌지만 인수 end로 마지막 출력 문자 변경\n",
    "print(1,2) ; print(3,4)\n",
    "\n",
    "# end는 print문 끝나고 를 지정한다.\n",
    "print(1,2, end = \" \") ; print(3,4)\n",
    "\n",
    "# sep는 사이에 구분자를 결정한다.\n",
    "print(1,2,3,4, sep = \", \")\n",
    "\n",
    "# sep는 사이에 구분자를 결정한다.\n",
    "print(1,2,3,4, sep = \",\\t\")"
   ]
  },
  {
   "cell_type": "code",
   "execution_count": 10,
   "metadata": {},
   "outputs": [
    {
     "name": "stdout",
     "output_type": "stream",
     "text": [
      "# 소숫점 3자리까지 실수 출력 : 3.142\n",
      "# 총 7자리, 소숫점 3자리까지 실수 출력 :   3.142\n",
      "# 총 10자리, 소숫점 3자리 까지 실수 출력 :      3.142\n"
     ]
    }
   ],
   "source": [
    "# 서식 출력\n",
    "print(\"# 소숫점 3자리까지 실수 출력 :\", format(3.141593, '.3f'))\n",
    "print(\"# 총 7자리, 소숫점 3자리까지 실수 출력 :\", format(3.141593, '7.3f'))\n",
    "print(\"# 총 10자리, 소숫점 3자리 까지 실수 출력 :\", format(3.141593, '10.3f'))"
   ]
  },
  {
   "cell_type": "code",
   "execution_count": 11,
   "metadata": {},
   "outputs": [
    {
     "name": "stdout",
     "output_type": "stream",
     "text": [
      "Sonny's Nationality is Korea !!!!!\n"
     ]
    }
   ],
   "source": [
    "# 서식 출력\n",
    "Name = \"Sonny\"\n",
    "Nationality = \"Korea\"\n",
    "\n",
    "print(\"{}'s Nationality is {} !!!!!\" .format(Name, Nationality))"
   ]
  },
  {
   "cell_type": "code",
   "execution_count": 12,
   "metadata": {},
   "outputs": [
    {
     "name": "stdout",
     "output_type": "stream",
     "text": [
      "sqrt(1) = 1.0\n",
      "sqrt(2) = 1.4142135623730951\n",
      "sqrt(1) = 1.000\n",
      "sqrt(2) = 1.414\n"
     ]
    }
   ],
   "source": [
    "# Library\n",
    "import math\n",
    "\n",
    "# 1 ~ 3의 제곱근값을 출력\n",
    "for k in range(1,3) :\n",
    "    print('sqrt({0}) = {1}'.format(k, math.sqrt(k)))\n",
    "\n",
    "# 1 ~ 3의 제곱근값을 출력하되 소수 셋째자리까지 출력\n",
    "for k in range(1,3) :\n",
    "    print('sqrt({0}) = {1:5.3f}'.format(k,math.sqrt(k)))"
   ]
  }
 ],
 "metadata": {
  "kernelspec": {
   "display_name": "Python 3",
   "language": "python",
   "name": "python3"
  },
  "language_info": {
   "codemirror_mode": {
    "name": "ipython",
    "version": 3
   },
   "file_extension": ".py",
   "mimetype": "text/x-python",
   "name": "python",
   "nbconvert_exporter": "python",
   "pygments_lexer": "ipython3",
   "version": "3.6.7"
  }
 },
 "nbformat": 4,
 "nbformat_minor": 2
}
