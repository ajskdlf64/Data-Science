{
 "cells": [
  {
   "cell_type": "markdown",
   "metadata": {},
   "source": [
    "# Data Type"
   ]
  },
  {
   "cell_type": "code",
   "execution_count": 1,
   "metadata": {},
   "outputs": [
    {
     "name": "stdout",
     "output_type": "stream",
     "text": [
      "False \n",
      "\n",
      "2\n",
      "0 \n",
      "\n",
      "True\n",
      "False\n",
      "True\n",
      "False\n"
     ]
    }
   ],
   "source": [
    "# Boolean\n",
    "# 참 또는 거짓을 나타내는 True 와 False\n",
    "# 주로 조건문에서 사용한다.\n",
    "a = 0 ; print(a < 0, \"\\n\")\n",
    "\n",
    "# bool 값은 정수로 취급한다.\n",
    "# True = 1. False = 0\n",
    "print(True + True)\n",
    "print(True * False, \"\\n\")\n",
    "\n",
    "# bool 함수\n",
    "# 0이 아닌 나머지 숫자는 모두 True로 반환\n",
    "print(bool(3))\n",
    "print(bool(0))\n",
    "print(bool(-1))\n",
    "a = 2 ; print(bool(a > 3))"
   ]
  },
  {
   "cell_type": "code",
   "execution_count": 2,
   "metadata": {},
   "outputs": [
    {
     "name": "stdout",
     "output_type": "stream",
     "text": [
      "H\n",
      "! \n",
      "\n",
      "ello Python!\n",
      "He\n",
      "Hello Python!\n",
      "HloPto!\n",
      "!nohtyP olleH\n"
     ]
    }
   ],
   "source": [
    "# str(문자열)\n",
    "s = \"Hello Python!\"\n",
    "p = 'Hello World!'\n",
    "print(s[0])\n",
    "print(p[-1], \"\\n\")\n",
    "\n",
    "# Slicing(start : stop : step)\n",
    "print(s[1:])    # 1 위치에서 끝까지\n",
    "print(s[:2])    # 처음(0)에서 2까지\n",
    "print(s[:])     # 처음부터 끝까지\n",
    "print(s[::2])   # 한개씩 건너 뛰면서 출력\n",
    "print(s[::-1])  # 역으로 출력"
   ]
  },
  {
   "cell_type": "code",
   "execution_count": 3,
   "metadata": {},
   "outputs": [
    {
     "name": "stdout",
     "output_type": "stream",
     "text": [
      "HelloWorld!!!\n",
      "Hello World !!!\n",
      "Python Python Python Python Python \n"
     ]
    }
   ],
   "source": [
    "# 문자열의 연결(+)과 반복(*)\n",
    "print(\"Hello\" + \"World\" + \"!!!\")\n",
    "print(\"Hello\" + \" \" + \"World\"+ \" \" + \"!!!\")\n",
    "print(\"Python \" * 5)"
   ]
  },
  {
   "cell_type": "code",
   "execution_count": 4,
   "metadata": {},
   "outputs": [],
   "source": [
    "# 문자열의 특정 요소의 값은 변경할 수 없다.\n",
    "# s = \"Hello Python!\"\n",
    "# s[0] = \"h\"\n",
    "# TypeError!!!"
   ]
  },
  {
   "cell_type": "code",
   "execution_count": 5,
   "metadata": {},
   "outputs": [
    {
     "name": "stdout",
     "output_type": "stream",
     "text": [
      "hello Python!\n"
     ]
    }
   ],
   "source": [
    "# 문자열을 변경하고 싶은 경우 문자열 전체를 새롭게 정의해야 한다!\n",
    "s = \"Hello Python!\"\n",
    "s = \"h\" + s[1:]\n",
    "print(s)"
   ]
  },
  {
   "cell_type": "code",
   "execution_count": 6,
   "metadata": {},
   "outputs": [
    {
     "data": {
      "text/plain": [
       "13"
      ]
     },
     "execution_count": 6,
     "metadata": {},
     "output_type": "execute_result"
    }
   ],
   "source": [
    "# 문자열의 길이 함수 : len()\n",
    "s = \"Hello Python!\"\n",
    "len(s)"
   ]
  },
  {
   "cell_type": "code",
   "execution_count": 7,
   "metadata": {},
   "outputs": [
    {
     "name": "stdout",
     "output_type": "stream",
     "text": [
      "Hello Python! 안에 python 이 있습니까? : False\n",
      "Hello Python! 안에 Python 이 있습니까? : True\n",
      "Hello Python! 안에 Python 이 없습니까? : False\n"
     ]
    }
   ],
   "source": [
    "# 문자열 안에 원소 확인\n",
    "print(\"Hello Python! 안에 python 이 있습니까? :\", \"python\" in s)\n",
    "print(\"Hello Python! 안에 Python 이 있습니까? :\", \"Python\" in s)\n",
    "print(\"Hello Python! 안에 Python 이 없습니까? :\", \"Python\" not in s)"
   ]
  },
  {
   "cell_type": "code",
   "execution_count": 8,
   "metadata": {},
   "outputs": [],
   "source": [
    "# str의 메소드(method)\n",
    "s = \"Hello World!\""
   ]
  },
  {
   "cell_type": "code",
   "execution_count": 9,
   "metadata": {},
   "outputs": [
    {
     "data": {
      "text/plain": [
       "'HELLO WORLD!'"
      ]
     },
     "execution_count": 9,
     "metadata": {},
     "output_type": "execute_result"
    }
   ],
   "source": [
    "# 모두 대문자로 변환\n",
    "s.upper()"
   ]
  },
  {
   "cell_type": "code",
   "execution_count": 10,
   "metadata": {},
   "outputs": [
    {
     "data": {
      "text/plain": [
       "['Hello', 'World!']"
      ]
     },
     "execution_count": 10,
     "metadata": {},
     "output_type": "execute_result"
    }
   ],
   "source": [
    "# 공백을 기준으로 분리\n",
    "s.split()"
   ]
  },
  {
   "cell_type": "code",
   "execution_count": 11,
   "metadata": {},
   "outputs": [
    {
     "data": {
      "text/plain": [
       "6"
      ]
     },
     "execution_count": 11,
     "metadata": {},
     "output_type": "execute_result"
    }
   ],
   "source": [
    "# 부분 문자열의 위치\n",
    "s.find(\"World\")"
   ]
  },
  {
   "cell_type": "code",
   "execution_count": 12,
   "metadata": {},
   "outputs": [
    {
     "data": {
      "text/plain": [
       "-1"
      ]
     },
     "execution_count": 12,
     "metadata": {},
     "output_type": "execute_result"
    }
   ],
   "source": [
    "# 부분 문자열의 위치\n",
    "# 없을 경우 -1을 반환\n",
    "s.find(\"world\")"
   ]
  },
  {
   "cell_type": "code",
   "execution_count": 13,
   "metadata": {},
   "outputs": [
    {
     "data": {
      "text/plain": [
       "True"
      ]
     },
     "execution_count": 13,
     "metadata": {},
     "output_type": "execute_result"
    }
   ],
   "source": [
    "# 시작부분을 확인, 맞으면 True, 틀리면 False\n",
    "s.startswith(\"Hello\")"
   ]
  },
  {
   "cell_type": "code",
   "execution_count": 14,
   "metadata": {},
   "outputs": [
    {
     "data": {
      "text/plain": [
       "False"
      ]
     },
     "execution_count": 14,
     "metadata": {},
     "output_type": "execute_result"
    }
   ],
   "source": [
    "# 시작부분을 확인, 맞으면 True, 틀리면 False\n",
    "s.endswith(\"ld\")"
   ]
  },
  {
   "cell_type": "code",
   "execution_count": 15,
   "metadata": {},
   "outputs": [
    {
     "name": "stdout",
     "output_type": "stream",
     "text": [
      "b'Hello World!' <class 'bytes'>\n"
     ]
    }
   ],
   "source": [
    "# Byte\n",
    "# 문자열은 유니코드이고, byte는 0~255 사이의 아스키코드이다.\n",
    "# 문자열에서 사용한 메소드들은 byte에서도 사용이 가능하다.\n",
    "b = b\"Hello World!\"\n",
    "print(b, end=\" \") ; print(type(b))"
   ]
  },
  {
   "cell_type": "code",
   "execution_count": 16,
   "metadata": {},
   "outputs": [
    {
     "data": {
      "text/plain": [
       "'Hello World'"
      ]
     },
     "execution_count": 16,
     "metadata": {},
     "output_type": "execute_result"
    }
   ],
   "source": [
    "# 문자열과 Byte\n",
    "s = \"Hello World\"\n",
    "b = b\"Hello World\"\n",
    "\n",
    "# 문자열 -> Byte\n",
    "s.encode()\n",
    "\n",
    "# Byte -> 문자열\n",
    "b.decode()\n",
    "\n",
    "# Byte -> 문자열 (인코딩을 지정)\n",
    "b.decode(\"euc-kr\")"
   ]
  },
  {
   "cell_type": "code",
   "execution_count": 17,
   "metadata": {},
   "outputs": [
    {
     "name": "stdout",
     "output_type": "stream",
     "text": [
      "리스트 안에 포함된 원소의 개수 : 5\n",
      "리스트의 첫번째 인덱스의 원소 : 2\n",
      "리스트의 마지막 인덱스의 원소 : 5\n",
      "리스트의 2 ~ 4번째 원소 : [3, 4]\n"
     ]
    }
   ],
   "source": [
    "# List\n",
    "# 대괄호를 사용하여 객체를 저장하는 집합적인 자료형\n",
    "L = [1,2,3,4,5]\n",
    "\n",
    "# 리스트의 개수\n",
    "print(\"리스트 안에 포함된 원소의 개수 : \" + str(len(L)))\n",
    "\n",
    "# 리스트의 각 원소\n",
    "print(\"리스트의 첫번째 인덱스의 원소 : \" + str(L[1]))\n",
    "\n",
    "# 리스트의 각 원소\n",
    "print(\"리스트의 마지막 인덱스의 원소 : \" + str(L[-1]))\n",
    "\n",
    "# 리스트의 각 원소\n",
    "print(\"리스트의 2 ~ 4번째 원소 : \" + str(L[2:4]))"
   ]
  },
  {
   "cell_type": "code",
   "execution_count": 18,
   "metadata": {},
   "outputs": [
    {
     "name": "stdout",
     "output_type": "stream",
     "text": [
      "L + L = [1, 2, 3, 4, 5, 1, 2, 3, 4, 5]\n",
      "L * L = [1, 2, 3, 4, 5, 1, 2, 3, 4, 5, 1, 2, 3, 4, 5, 1, 2, 3, 4, 5]\n"
     ]
    }
   ],
   "source": [
    "# List의 사칙연산\n",
    "print(\"L + L = \" + str(L+L))\n",
    "print(\"L * L = \" + str(L*4))"
   ]
  },
  {
   "cell_type": "code",
   "execution_count": 19,
   "metadata": {},
   "outputs": [
    {
     "name": "stdout",
     "output_type": "stream",
     "text": [
      "L[::2] : [1, 3, 5]\n"
     ]
    }
   ],
   "source": [
    "# 2칸씩 뛰면서 출력\n",
    "print(\"L[::2] : \" + str(L[::2]))"
   ]
  },
  {
   "cell_type": "code",
   "execution_count": 20,
   "metadata": {},
   "outputs": [
    {
     "name": "stdout",
     "output_type": "stream",
     "text": [
      "L 안에 4라는 원소가 있는가? : True\n"
     ]
    }
   ],
   "source": [
    "# 멤버 검사\n",
    "print(\"L 안에 4라는 원소가 있는가? : \" + str(4 in L))"
   ]
  },
  {
   "cell_type": "code",
   "execution_count": 21,
   "metadata": {},
   "outputs": [
    {
     "name": "stdout",
     "output_type": "stream",
     "text": [
      "구성요소 추가 : [1, 2, 3, 4]\n",
      "구성요소 삭제 : [2, 3, 4]\n",
      "순서 뒤집기 : [4, 3, 2]\n",
      "오름차순 정렬 : [2, 3, 4]\n",
      "내림차순 정렬 : [4, 3, 2]\n"
     ]
    }
   ],
   "source": [
    "# List Method\n",
    "L = [1,2,3]\n",
    "\n",
    "# 구성요소 추가\n",
    "L.append(4)\n",
    "print(\"구성요소 추가 :\",L)\n",
    "\n",
    "# 데이터 삭제\n",
    "del L[0]\n",
    "print(\"구성요소 삭제 :\",L)\n",
    "\n",
    "# 순서 뒤집기\n",
    "L.reverse()\n",
    "print(\"순서 뒤집기 :\",L)\n",
    "\n",
    "# 오름차순 정렬\n",
    "L.sort()\n",
    "print(\"오름차순 정렬 :\",L)\n",
    "\n",
    "# 내림차순 정렬\n",
    "L.sort(reverse=True)\n",
    "print(\"내림차순 정렬 :\",L)"
   ]
  },
  {
   "cell_type": "code",
   "execution_count": 25,
   "metadata": {},
   "outputs": [
    {
     "name": "stdout",
     "output_type": "stream",
     "text": [
      "튜플 : (1, 2, 3)\n",
      "\n",
      "튜플의 원소 개수 : 3\n",
      "튜플의 2번째 원소 : 2\n",
      "튜플의 마지막 원소 : 3\n",
      "튜플의 1 ~ 2번째 원소 : (1, 2)\n",
      "\n",
      "t + t = (1, 2, 3, 1, 2, 3)\n",
      "t * 2 = (1, 2, 3, 1, 2, 3)\n",
      "\n",
      "3 in t : True\n"
     ]
    }
   ],
   "source": [
    "# Tuple\n",
    "# 괄호()를 사용하여 객체를 저장하는 집합적인 자료형, list와 유사한 특성이 있으나, 값을 변경할 수 없다.\n",
    "t = (1,2,3)\n",
    "print(\"튜플 :\",t, end=\"\\n\\n\")\n",
    "\n",
    "# 원소 개수\n",
    "print(\"튜플의 원소 개수 :\",len(t))\n",
    "\n",
    "# 몇번째 원소\n",
    "print(\"튜플의 2번째 원소 :\",t[1])\n",
    "print(\"튜플의 마지막 원소 :\",t[-1])\n",
    "\n",
    "# 슬라이싱\n",
    "print(\"튜플의 1 ~ 2번째 원소 :\",t[0:2], end=\"\\n\\n\")\n",
    "\n",
    "# 튜플의 사칙연산\n",
    "print(\"t + t =\",t+t)\n",
    "print(\"t * 2 =\",t*2, end=\"\\n\\n\")\n",
    "\n",
    "# 튜플의 멤버 검사\n",
    "print(\"3 in t :\",3 in t)"
   ]
  },
  {
   "cell_type": "code",
   "execution_count": 42,
   "metadata": {},
   "outputs": [
    {
     "name": "stdout",
     "output_type": "stream",
     "text": [
      "one 이라는 키를 가진 값 : 하나\n",
      "변경된 딕셔너리 : {'one': '하나', 'two': '둘', 'three': '셋', 'four': '넷', 'five': '다섯', 'six': '여섯'}\n",
      "딕셔너리의 키값 모음 : dict_keys(['one', 'two', 'three', 'four', 'five', 'six'])\n",
      "딕셔너리의 값 모음 : dict_values(['하나', '둘', '셋', '넷', '다섯', '여섯'])\n",
      "딕셔너리를 튜플로 변환 : dict_items([('one', '하나'), ('two', '둘'), ('three', '셋'), ('four', '넷'), ('five', '다섯'), ('six', '여섯')])\n"
     ]
    }
   ],
   "source": [
    "# 사전 : Dictionary\n",
    "# 중괄호{}를 사용하여 객체를 저장하는 집합적인 자료형으로 키를 이용하여 값을 참조\n",
    "d = {\"one\" : \"하나\", \"two\" : \"둘\", \"three\" : \"셋\", \"four\" : \"넷\", \"five\" : \"다섯\"}\n",
    "\n",
    "# 키를 이용하여 값 불러내기\n",
    "print(\"one 이라는 키를 가진 값 :\",d[\"one\"])\n",
    "\n",
    "# 요소 추가\n",
    "d[\"six\"] = \"여섯\"\n",
    "\n",
    "# 추가된 딕셔너리\n",
    "print(\"변경된 딕셔너리 :\",d)\n",
    "\n",
    "# 키값만 추출\n",
    "print(\"딕셔너리의 키값 모음 :\",d.keys())\n",
    "\n",
    "# 값만 추출\n",
    "print(\"딕셔너리의 값 모음 :\",d.values())\n",
    "\n",
    "# 딕셔너리를 튜플로 변환\n",
    "print(\"딕셔너리를 튜플로 변환 :\", d.items())"
   ]
  },
  {
   "cell_type": "code",
   "execution_count": 61,
   "metadata": {},
   "outputs": [
    {
     "name": "stdout",
     "output_type": "stream",
     "text": [
      "[1, 4, 3, 2, 3] -> 리스트에서 집합으로 -> {1, 2, 3, 4}\n",
      "\n",
      "3 in s : True\n",
      "\n",
      "s : {1, 2, 3, 4}, s1 : {1, 2, 3}\n",
      "합집합 : {1, 2, 3, 4}\n",
      "합집합 : {1, 2, 3, 4}\n",
      "교집합 : {1, 2, 3}\n",
      "교집합 : {1, 2, 3}\n",
      "차집합 : {4}\n",
      "\n",
      "원소 추가 : {1, 2, 3, 4}\n",
      "원소 제거 : {1, 2, 3}\n"
     ]
    }
   ],
   "source": [
    "# 집합 : set\n",
    "# 중복되지 않은 데이터를 순서없이 저장하는 자료형\n",
    "# 멤버 검사와 중복된 항목 제거에 유용\n",
    "# 집합 생성\n",
    "s1 = {1,2,3}\n",
    "\n",
    "# 리스트를 집합으로 변환\n",
    "L = [1,4,3,2,3]\n",
    "s = set(L)\n",
    "print(L,\"-> 리스트에서 집합으로 ->\",s, end=\"\\n\\n\")\n",
    "\n",
    "# 멤버 검사\n",
    "print(\"3 in s :\",3 in s, end=\"\\n\\n\")\n",
    "\n",
    "# 합집합\n",
    "print(\"s : {}, s1 : {}\" .format(s,s1))\n",
    "print(\"합집합 :\",s.union(s1))\n",
    "print(\"합집합 :\",s | s1)\n",
    "\n",
    "# 교집합\n",
    "print(\"교집합 :\",s.intersection(s1))\n",
    "print(\"교집합 :\",s & s1)\n",
    "\n",
    "# 차집합\n",
    "print(\"차집합 :\",s-s1, end=\"\\n\\n\")\n",
    "\n",
    "# 원소추가\n",
    "s.add(4)\n",
    "print(\"원소 추가 :\",s)\n",
    "\n",
    "# 원소 제거\n",
    "s.discard(4)\n",
    "print(\"원소 제거 :\",s)"
   ]
  }
 ],
 "metadata": {
  "kernelspec": {
   "display_name": "Python 3",
   "language": "python",
   "name": "python3"
  },
  "language_info": {
   "codemirror_mode": {
    "name": "ipython",
    "version": 3
   },
   "file_extension": ".py",
   "mimetype": "text/x-python",
   "name": "python",
   "nbconvert_exporter": "python",
   "pygments_lexer": "ipython3",
   "version": "3.6.7"
  }
 },
 "nbformat": 4,
 "nbformat_minor": 2
}
