{
 "cells": [
  {
   "cell_type": "markdown",
   "metadata": {},
   "source": [
    "# 자연어 처리 문제에 도움을 주는 파이썬 라이브러리\n",
    " - 계산을 위한 라이브러리 numpy\n",
    " - 데이터 분석을 위한 pandas\n",
    " - 시각화 도구 matplotlib\n",
    " - 정규표현식 사용을 위한 Re\n",
    " - HTML 데이터를 다루기 위한 Beautiful Soup"
   ]
  },
  {
   "cell_type": "markdown",
   "metadata": {},
   "source": [
    "# Numpy\n",
    "빠르고 효율적인 계산을 위해 만들어진 파이썬 라이브러리다. 넘파이 고성능의 다차원 배열 객체와 이러한 배열을 게산할 효율적인 도구를 제공한다.\n",
    "\n",
    "Numpy의 핵심은 ndarray 객체다. 이 객체는 동일한 자료형을 가지는 n차원의 배열로 이 객체를 호라용하면 파이썬에 내장된 배열을 사용하는 것보다 더 적은 코드로 연산이 가능하고 더 빠르게 결과를 얻을 수 있다."
   ]
  },
  {
   "cell_type": "code",
   "execution_count": 1,
   "metadata": {},
   "outputs": [
    {
     "name": "stdout",
     "output_type": "stream",
     "text": [
      "[1 2 3]\n"
     ]
    }
   ],
   "source": [
    "import numpy as np\n",
    "\n",
    "a = np.array([1,2,3])\n",
    "\n",
    "print(a)"
   ]
  },
  {
   "cell_type": "markdown",
   "metadata": {},
   "source": [
    "# Numpy 배열\n",
    "넘파이 배열은 앞서 말한 ndarray 객체 형태다. 이 객체는 동일한 자료형을 가지는 값들이 표 형태로 구성되어 있다. 각 값은 음수가 아닌 정수 값으로 색인되고, 객체의 자원은 axis(축)이라 불린다.\n",
    "\n",
    "#### ndarray객체의 속성\n",
    " - ndarray.ndim : 배열의 축(차원)의 수를 반환한다.\n",
    " - ndarray.shape : 배열의 형태를 반환한다. 예를 들어 2X3의 2차원 배열의 경우 shape는 (2,3)이 된다.\n",
    " - ndarray.size : 배열 내 원소의 총 개수를 반환한다.\n",
    " - ndarray.dtype : 배열 내 원소들의 자료형을 반환한다."
   ]
  },
  {
   "cell_type": "code",
   "execution_count": 2,
   "metadata": {},
   "outputs": [
    {
     "name": "stdout",
     "output_type": "stream",
     "text": [
      "a의 차원의 수 : 2\n",
      "a의 구조 : (3, 3)\n",
      "a의 크기 : 9\n",
      "a의 자료 형태 : int32\n"
     ]
    }
   ],
   "source": [
    "import numpy as np\n",
    "\n",
    "a = np.array([[1,2,3],[1,5,9],[3,5,7]])\n",
    "\n",
    "print(\"a의 차원의 수 :\", a.ndim)\n",
    "print(\"a의 구조 :\", a.shape)\n",
    "print(\"a의 크기 :\", a.size)\n",
    "print(\"a의 자료 형태 :\", a.dtype)"
   ]
  },
  {
   "cell_type": "markdown",
   "metadata": {},
   "source": [
    "# Numpy 활용하기\n",
    " - numpy.zeros : 모든 배열의 원소가 0인 배열을 생성한다.\n",
    " - numpy.ones : 모든 배열의 원소가 1인 배열을 생성한다.\n",
    " - numpy.empty : 배열의 크기만 정해주고 원소는 초기화하지 않은 배열을 생성한다. 원소에는 매우 크거나 작은 값이 들어간다.\n",
    " - numpy.arange : 파이썬의 range 함수와 유사한 형태로 배열을 생성할 수 있다. 배열의 원소들이 수열을 구성한다.\n",
    " - numpy.full : 배열의 모든 값이 하나의 상수인 배열을 생성한 다.\n",
    " - numpy.eye : 지정한 크기의 단위 행렬을 생선한다.\n",
    " - numpy.random.random : 배열의 원소를 임의 값으로 생성한다."
   ]
  },
  {
   "cell_type": "code",
   "execution_count": 3,
   "metadata": {},
   "outputs": [
    {
     "name": "stdout",
     "output_type": "stream",
     "text": [
      "[[0. 0. 0.]\n",
      " [0. 0. 0.]]\n"
     ]
    }
   ],
   "source": [
    "# numpy.zeros\n",
    "# 모든 원소를 0으로 생성\n",
    "a = np.zeros((2,3))\n",
    "print(a)"
   ]
  },
  {
   "cell_type": "code",
   "execution_count": 4,
   "metadata": {},
   "outputs": [
    {
     "name": "stdout",
     "output_type": "stream",
     "text": [
      "[[1.]\n",
      " [1.]]\n"
     ]
    }
   ],
   "source": [
    "# nupy.ones\n",
    "# 모든 원소를 1로 생성\n",
    "a = np.ones((2,1))\n",
    "print(a)"
   ]
  },
  {
   "cell_type": "code",
   "execution_count": 5,
   "metadata": {},
   "outputs": [
    {
     "name": "stdout",
     "output_type": "stream",
     "text": [
      "[[1.30043641e-311 7.12301611e-315]\n",
      " [9.88131292e-324             nan]]\n"
     ]
    }
   ],
   "source": [
    "# numpy.empty\n",
    "# 원소값을 초기화하지 않은 배열로 생성\n",
    "a = np.empty((2,2))\n",
    "print(a)"
   ]
  },
  {
   "cell_type": "code",
   "execution_count": 6,
   "metadata": {},
   "outputs": [
    {
     "name": "stdout",
     "output_type": "stream",
     "text": [
      "[10 15 20 25]\n"
     ]
    }
   ],
   "source": [
    "# numpy.arange\n",
    "# 10부터 30 전 까지 모단위로 배열 생성\n",
    "a = np.arange(10, 30, 5)\n",
    "print(a)"
   ]
  },
  {
   "cell_type": "code",
   "execution_count": 7,
   "metadata": {},
   "outputs": [
    {
     "name": "stdout",
     "output_type": "stream",
     "text": [
      "[[4 4]\n",
      " [4 4]]\n"
     ]
    }
   ],
   "source": [
    "# numpy.full\n",
    "# 원소가 모두 4인 배열 생성\n",
    "a = np.full((2,2),4)\n",
    "print(a)"
   ]
  },
  {
   "cell_type": "code",
   "execution_count": 8,
   "metadata": {},
   "outputs": [
    {
     "name": "stdout",
     "output_type": "stream",
     "text": [
      "[[1. 0. 0.]\n",
      " [0. 1. 0.]\n",
      " [0. 0. 1.]]\n"
     ]
    }
   ],
   "source": [
    "# numpy.eye\n",
    "# 3X3 크기의 단위 행렬 생성\n",
    "a = np.eye(3)\n",
    "print(a)"
   ]
  },
  {
   "cell_type": "code",
   "execution_count": 9,
   "metadata": {},
   "outputs": [
    {
     "name": "stdout",
     "output_type": "stream",
     "text": [
      "[[0.50809584 0.74094665]\n",
      " [0.84211092 0.18313532]]\n"
     ]
    }
   ],
   "source": [
    "# numpy.random.random\n",
    "# 임의값을 가진 배열 생성\n",
    "a = np.random.random((2,2))\n",
    "print(a)"
   ]
  },
  {
   "cell_type": "markdown",
   "metadata": {},
   "source": [
    "# Numpy 기본 연산\n",
    "넘파이는 배열끼리 연산할 때 빠르고 사용하기 어려운 여러 연산 함수를 제공한다. 넘파이는 기본적인 사칙 연산을 모두 지원한다. 주의할 점은 벡터끼리의 곱셈과 내적을 구분해야한다는 점이다."
   ]
  },
  {
   "cell_type": "code",
   "execution_count": 10,
   "metadata": {
    "scrolled": true
   },
   "outputs": [
    {
     "name": "stdout",
     "output_type": "stream",
     "text": [
      "a + b = [11 22 33]\n",
      "a + b = [11 22 33]\n",
      "b - a = [ 9 18 27]\n",
      "b - a = [ 9 18 27]\n",
      "a^2 = [1 4 9]\n",
      "b의 각 원소별 15보다 작은지 여부 : [ True False False]\n",
      "c X d =\n",
      " [[10 40]\n",
      " [90 40]]\n",
      "c 내적 d = \n",
      " [[ 70  40]\n",
      " [150 100]]\n",
      "c 내적 d = \n",
      " [[ 70  40]\n",
      " [150 100]]\n"
     ]
    }
   ],
   "source": [
    "a = np.array([1,2,3])\n",
    "b = np.array([10,20,30])\n",
    "\n",
    "# a + b\n",
    "print(\"a + b =\", a+b)\n",
    "\n",
    "# a + b\n",
    "print(\"a + b =\", np.add(a,b))\n",
    "\n",
    "# b - a\n",
    "print(\"b - a =\", b-a)\n",
    "\n",
    "# b - a\n",
    "print(\"b - a =\", np.subtract(b,a))\n",
    "\n",
    "# a의 제곱 연산\n",
    "print(\"a^2 =\", a**2)\n",
    "\n",
    "# 원소별 진위여부\n",
    "print(\"b의 각 원소별 15보다 작은지 여부 :\", b<15)\n",
    "\n",
    "c = np.array([[1,2],[3,4]])\n",
    "d = np.array([[10,20],[30,10]])\n",
    "\n",
    "# 원소별 곱셉\n",
    "print(\"c X d =\\n\", c*d)\n",
    "\n",
    "# 내적 계산\n",
    "print(\"c 내적 d = \\n\", np.dot(c,d))\n",
    "print(\"c 내적 d = \\n\", c.dot(d))"
   ]
  },
  {
   "cell_type": "markdown",
   "metadata": {},
   "source": [
    "# Numpy 축연산"
   ]
  },
  {
   "cell_type": "code",
   "execution_count": 11,
   "metadata": {},
   "outputs": [
    {
     "name": "stdout",
     "output_type": "stream",
     "text": [
      "[ 7 11 15 19]\n",
      "[10 26 16]\n",
      "[5 6 7 8]\n",
      "[4 8 7]\n"
     ]
    }
   ],
   "source": [
    "# 축을 기준으로 한 연산\n",
    "a = np.array([[1,2,3,4],[5,6,7,8],[1,3,5,7]])\n",
    "\n",
    "# 0축, 즉 열을 기준으로 한 덧셈\n",
    "print(a.sum(axis=0))\n",
    "\n",
    "# 1축, 즉 행을 기준으로 한 덧셈\n",
    "print(a.sum(axis=1))\n",
    "\n",
    "# 각 열에서의 최댓값\n",
    "print(a.max(axis=0))\n",
    "\n",
    "# 각 행에서의 최댓값\n",
    "print(a.max(axis=1))"
   ]
  },
  {
   "cell_type": "markdown",
   "metadata": {},
   "source": [
    "# Numpy를 이용한 배열 형태 변환\n",
    "배열의 형태를 쉽게 바꿀수 있는 여러 함수들을 제공한다.\n",
    "\n",
    " - numpy.ravel() : 배열을 1차원 배열로 만든다.\n",
    " - numpy.reshape() : 배열의 형태를 바꾼다.\n",
    " - ndarry.T : 트랜스포즈된 배열을 만든다. 행렬의 트랜스포즈와 같다."
   ]
  },
  {
   "cell_type": "code",
   "execution_count": 12,
   "metadata": {},
   "outputs": [
    {
     "name": "stdout",
     "output_type": "stream",
     "text": [
      "A array\n",
      "[[ 1  2  3  4]\n",
      " [ 5  6  7  8]\n",
      " [ 9 10 11 12]]\n",
      "\n",
      "1차원 배열로 바꾸기\n",
      "[ 1  2  3  4  5  6  7  8  9 10 11 12]\n",
      "\n",
      "모양 바꾸기\n",
      "[[ 1  2  3  4  5  6]\n",
      " [ 7  8  9 10 11 12]]\n",
      "\n",
      "모양 바꾸기\n",
      "[[ 1  2  3  4]\n",
      " [ 5  6  7  8]\n",
      " [ 9 10 11 12]]\n",
      "\n",
      "트랜스포즈 하기\n",
      "[[ 1  5  9]\n",
      " [ 2  6 10]\n",
      " [ 3  7 11]\n",
      " [ 4  8 12]]\n",
      "\n",
      "특정한 행,열로 모양 바꾸기\n",
      "[[ 1  2  3  4]\n",
      " [ 5  6  7  8]\n",
      " [ 9 10 11 12]]\n",
      "\n",
      "특정한 행,열로 모양 바꾸기\n",
      "[[ 1  2  3]\n",
      " [ 4  5  6]\n",
      " [ 7  8  9]\n",
      " [10 11 12]]\n"
     ]
    }
   ],
   "source": [
    "a = np.array([[1,2,3,4],[5,6,7,8],[9,10,11,12]])\n",
    "\n",
    "print(\"A array\")\n",
    "print(a)\n",
    "\n",
    "print()\n",
    "\n",
    "print(\"1차원 배열로 바꾸기\")\n",
    "print(a.ravel())\n",
    "\n",
    "print()\n",
    "\n",
    "print(\"모양 바꾸기\")\n",
    "print(a.reshape(2,6))\n",
    "\n",
    "print()\n",
    "\n",
    "print(\"모양 바꾸기\")\n",
    "\n",
    "print(a.reshape(3,4))\n",
    "\n",
    "print()\n",
    "\n",
    "print(\"트랜스포즈 하기\")\n",
    "print(a.T)\n",
    "\n",
    "print()\n",
    "\n",
    "print(\"특정한 행,열로 모양 바꾸기\")\n",
    "print(a.reshape(3,-1))\n",
    "\n",
    "print()\n",
    "\n",
    "print(\"특정한 행,열로 모양 바꾸기\")\n",
    "print(a.reshape(-1,3))"
   ]
  },
  {
   "cell_type": "markdown",
   "metadata": {},
   "source": [
    "# Numpy Broadcasting\n",
    "배열의 경우 두 배열의 형태가 같아야만 사용할 수 있는 연산이 많다. 하지만 넘파이는 브로드캐스팅이라는 기능을 통해 다른 형태의 배열끼리도 연산이 가능하게 만들어 준다."
   ]
  },
  {
   "cell_type": "code",
   "execution_count": 13,
   "metadata": {},
   "outputs": [
    {
     "name": "stdout",
     "output_type": "stream",
     "text": [
      "<a>\n",
      "[[1 2 3]\n",
      " [4 5 6]\n",
      " [7 8 9]]\n",
      "<b>\n",
      "[1 0 1]\n",
      "<브로드 캐스팅 된 y>\n",
      "[[ 2  2  4]\n",
      " [ 5  5  7]\n",
      " [ 8  8 10]]\n"
     ]
    }
   ],
   "source": [
    "a = np.array([[1,2,3],[4,5,6],[7,8,9]])\n",
    "b = np.array([1,0,1])\n",
    "y = np.empty_like(a)            # 배열 a의 크기가 같은 원소가 비어있는 배열 생성\n",
    "\n",
    "print(\"<a>\")\n",
    "print(a)\n",
    "print(\"<b>\")\n",
    "print(b)\n",
    "\n",
    "# 배열 b를 a의 각 행에 더해주기 위해 반복문을 사용\n",
    "for i in range(3) : \n",
    "    y[i,:] = a[i,:] + b\n",
    "\n",
    "# 브로드캐스팅된 y\n",
    "print(\"<브로드 캐스팅 된 y>\")\n",
    "print(y)"
   ]
  },
  {
   "cell_type": "markdown",
   "metadata": {},
   "source": [
    "# Pandas\n",
    "판다스란 데이터 과학을 위해 꼭 필요한 파이썬 라이브러리 중 하나다. 편리한 데이터 구조와 데이터 분석 기능을 제공하기 때문에 데이터를 다루기 위해서는 반드시 알아야 한다.\n",
    "\n",
    "#### 판다스의 데이터 구조\n",
    " - 시리즈(Series)\n",
    " - 데이터프레임(DataFrame)\n",
    " - 패널(Panel)\n",
    " \n",
    "이 세가지 구조를 구분하는 가장 명확한 기준은 바로 차원이다. Series는 1차원 데이터 구조고, DataFrame은 2차원, Panel은 3차원이다."
   ]
  },
  {
   "cell_type": "markdown",
   "metadata": {},
   "source": [
    "# Series"
   ]
  },
  {
   "cell_type": "code",
   "execution_count": 14,
   "metadata": {},
   "outputs": [
    {
     "name": "stdout",
     "output_type": "stream",
     "text": [
      "0     1\n",
      "1     3\n",
      "2     5\n",
      "3     7\n",
      "4    10\n",
      "dtype: int64\n"
     ]
    }
   ],
   "source": [
    "import pandas as pd\n",
    "\n",
    "# Series 생성\n",
    "# pandas.Series(data, index, dtype, copy)\n",
    "\n",
    "a = pd.Series([1, 3, 5, 7, 10])\n",
    "print(a)"
   ]
  },
  {
   "cell_type": "code",
   "execution_count": 15,
   "metadata": {},
   "outputs": [
    {
     "name": "stdout",
     "output_type": "stream",
     "text": [
      "0    a\n",
      "1    b\n",
      "2    c\n",
      "3    d\n",
      "dtype: object\n"
     ]
    }
   ],
   "source": [
    "import pandas as pd\n",
    "\n",
    "# 넘파이 배열 생성\n",
    "data = np.array([\"a\", \"b\", \"c\", \"d\"])\n",
    "\n",
    "# 넘파이 배열을 이용한 시리즈 데이터 생성\n",
    "b = pd.Series(data)\n",
    "print(b)"
   ]
  },
  {
   "cell_type": "code",
   "execution_count": 16,
   "metadata": {},
   "outputs": [
    {
     "name": "stdout",
     "output_type": "stream",
     "text": [
      "0    10\n",
      "1    15\n",
      "2    20\n",
      "3    25\n",
      "dtype: int32\n"
     ]
    }
   ],
   "source": [
    "# 넘파이 arange 함수로 생성한 배열로 시리즈 생성\n",
    "c = pd.Series(np.arange(10,30,5))\n",
    "print(c)"
   ]
  },
  {
   "cell_type": "code",
   "execution_count": 17,
   "metadata": {},
   "outputs": [
    {
     "name": "stdout",
     "output_type": "stream",
     "text": [
      "10    a\n",
      "20    b\n",
      "30    c\n",
      "dtype: object\n"
     ]
    }
   ],
   "source": [
    "# Index를 직접 지정할 수 있다.\n",
    "a = pd.Series([\"a\", \"b\", \"c\"], index=[10, 20, 30])\n",
    "print(a)"
   ]
  },
  {
   "cell_type": "code",
   "execution_count": 18,
   "metadata": {},
   "outputs": [
    {
     "name": "stdout",
     "output_type": "stream",
     "text": [
      "a    10\n",
      "b    20\n",
      "c    30\n",
      "dtype: int64\n"
     ]
    }
   ],
   "source": [
    "# 파이썬 딕셔너리를 활용한 시리즈 생성\n",
    "dict = {\"a\":10, \"b\":20, \"c\":30}\n",
    "d = pd.Series(dict)\n",
    "print(d)"
   ]
  },
  {
   "cell_type": "markdown",
   "metadata": {},
   "source": [
    "# DataFrame"
   ]
  },
  {
   "cell_type": "code",
   "execution_count": 19,
   "metadata": {},
   "outputs": [],
   "source": [
    "# 데이터 프레임 생성\n",
    "# pandas.DataFrame(data, index, colums, dtype, copy)"
   ]
  },
  {
   "cell_type": "code",
   "execution_count": 20,
   "metadata": {},
   "outputs": [
    {
     "data": {
      "text/html": [
       "<div>\n",
       "<style scoped>\n",
       "    .dataframe tbody tr th:only-of-type {\n",
       "        vertical-align: middle;\n",
       "    }\n",
       "\n",
       "    .dataframe tbody tr th {\n",
       "        vertical-align: top;\n",
       "    }\n",
       "\n",
       "    .dataframe thead th {\n",
       "        text-align: right;\n",
       "    }\n",
       "</style>\n",
       "<table border=\"1\" class=\"dataframe\">\n",
       "  <thead>\n",
       "    <tr style=\"text-align: right;\">\n",
       "      <th></th>\n",
       "      <th>0</th>\n",
       "    </tr>\n",
       "  </thead>\n",
       "  <tbody>\n",
       "    <tr>\n",
       "      <th>0</th>\n",
       "      <td>1</td>\n",
       "    </tr>\n",
       "    <tr>\n",
       "      <th>1</th>\n",
       "      <td>3</td>\n",
       "    </tr>\n",
       "    <tr>\n",
       "      <th>2</th>\n",
       "      <td>5</td>\n",
       "    </tr>\n",
       "    <tr>\n",
       "      <th>3</th>\n",
       "      <td>7</td>\n",
       "    </tr>\n",
       "    <tr>\n",
       "      <th>4</th>\n",
       "      <td>9</td>\n",
       "    </tr>\n",
       "  </tbody>\n",
       "</table>\n",
       "</div>"
      ],
      "text/plain": [
       "   0\n",
       "0  1\n",
       "1  3\n",
       "2  5\n",
       "3  7\n",
       "4  9"
      ]
     },
     "execution_count": 20,
     "metadata": {},
     "output_type": "execute_result"
    }
   ],
   "source": [
    "# 리스트를 이용한 생성\n",
    "a = pd.DataFrame([1,3,5,7,9])\n",
    "a.head()"
   ]
  },
  {
   "cell_type": "code",
   "execution_count": 21,
   "metadata": {},
   "outputs": [
    {
     "data": {
      "text/html": [
       "<div>\n",
       "<style scoped>\n",
       "    .dataframe tbody tr th:only-of-type {\n",
       "        vertical-align: middle;\n",
       "    }\n",
       "\n",
       "    .dataframe tbody tr th {\n",
       "        vertical-align: top;\n",
       "    }\n",
       "\n",
       "    .dataframe thead th {\n",
       "        text-align: right;\n",
       "    }\n",
       "</style>\n",
       "<table border=\"1\" class=\"dataframe\">\n",
       "  <thead>\n",
       "    <tr style=\"text-align: right;\">\n",
       "      <th></th>\n",
       "      <th>Name</th>\n",
       "      <th>Age</th>\n",
       "    </tr>\n",
       "  </thead>\n",
       "  <tbody>\n",
       "    <tr>\n",
       "      <th>0</th>\n",
       "      <td>Cho</td>\n",
       "      <td>28</td>\n",
       "    </tr>\n",
       "    <tr>\n",
       "      <th>1</th>\n",
       "      <td>Kim</td>\n",
       "      <td>31</td>\n",
       "    </tr>\n",
       "    <tr>\n",
       "      <th>2</th>\n",
       "      <td>Lee</td>\n",
       "      <td>38</td>\n",
       "    </tr>\n",
       "  </tbody>\n",
       "</table>\n",
       "</div>"
      ],
      "text/plain": [
       "  Name  Age\n",
       "0  Cho   28\n",
       "1  Kim   31\n",
       "2  Lee   38"
      ]
     },
     "execution_count": 21,
     "metadata": {},
     "output_type": "execute_result"
    }
   ],
   "source": [
    "# 딕셔너리를 이용한 생성\n",
    "dict = {\"Name\":[\"Cho\",\"Kim\",\"Lee\"], \"Age\":[28,31,38]}\n",
    "b = pd.DataFrame(dict)\n",
    "b.head()"
   ]
  },
  {
   "cell_type": "code",
   "execution_count": 22,
   "metadata": {},
   "outputs": [
    {
     "data": {
      "text/html": [
       "<div>\n",
       "<style scoped>\n",
       "    .dataframe tbody tr th:only-of-type {\n",
       "        vertical-align: middle;\n",
       "    }\n",
       "\n",
       "    .dataframe tbody tr th {\n",
       "        vertical-align: top;\n",
       "    }\n",
       "\n",
       "    .dataframe thead th {\n",
       "        text-align: right;\n",
       "    }\n",
       "</style>\n",
       "<table border=\"1\" class=\"dataframe\">\n",
       "  <thead>\n",
       "    <tr style=\"text-align: right;\">\n",
       "      <th></th>\n",
       "      <th>0</th>\n",
       "      <th>1</th>\n",
       "    </tr>\n",
       "  </thead>\n",
       "  <tbody>\n",
       "    <tr>\n",
       "      <th>0</th>\n",
       "      <td>apple</td>\n",
       "      <td>7000</td>\n",
       "    </tr>\n",
       "    <tr>\n",
       "      <th>1</th>\n",
       "      <td>banana</td>\n",
       "      <td>5000</td>\n",
       "    </tr>\n",
       "    <tr>\n",
       "      <th>2</th>\n",
       "      <td>orange</td>\n",
       "      <td>4000</td>\n",
       "    </tr>\n",
       "  </tbody>\n",
       "</table>\n",
       "</div>"
      ],
      "text/plain": [
       "        0     1\n",
       "0   apple  7000\n",
       "1  banana  5000\n",
       "2  orange  4000"
      ]
     },
     "execution_count": 22,
     "metadata": {},
     "output_type": "execute_result"
    }
   ],
   "source": [
    "# 리스트의 중첩에 의한 생성\n",
    "c = pd.DataFrame([[\"apple\", 7000], [\"banana\", 5000], [\"orange\", 4000]])\n",
    "c.head()"
   ]
  },
  {
   "cell_type": "code",
   "execution_count": 23,
   "metadata": {},
   "outputs": [
    {
     "data": {
      "text/html": [
       "<div>\n",
       "<style scoped>\n",
       "    .dataframe tbody tr th:only-of-type {\n",
       "        vertical-align: middle;\n",
       "    }\n",
       "\n",
       "    .dataframe tbody tr th {\n",
       "        vertical-align: top;\n",
       "    }\n",
       "\n",
       "    .dataframe thead th {\n",
       "        text-align: right;\n",
       "    }\n",
       "</style>\n",
       "<table border=\"1\" class=\"dataframe\">\n",
       "  <thead>\n",
       "    <tr style=\"text-align: right;\">\n",
       "      <th></th>\n",
       "      <th>Name</th>\n",
       "      <th>Price</th>\n",
       "    </tr>\n",
       "  </thead>\n",
       "  <tbody>\n",
       "    <tr>\n",
       "      <th>0</th>\n",
       "      <td>apple</td>\n",
       "      <td>7000</td>\n",
       "    </tr>\n",
       "    <tr>\n",
       "      <th>1</th>\n",
       "      <td>banana</td>\n",
       "      <td>5000</td>\n",
       "    </tr>\n",
       "    <tr>\n",
       "      <th>2</th>\n",
       "      <td>orange</td>\n",
       "      <td>4000</td>\n",
       "    </tr>\n",
       "  </tbody>\n",
       "</table>\n",
       "</div>"
      ],
      "text/plain": [
       "     Name  Price\n",
       "0   apple   7000\n",
       "1  banana   5000\n",
       "2  orange   4000"
      ]
     },
     "execution_count": 23,
     "metadata": {},
     "output_type": "execute_result"
    }
   ],
   "source": [
    "# 인덱스를 칼럼 인자값을 통해 지정해 줄 수 있다.\n",
    "d = pd.DataFrame([[\"apple\", 7000], [\"banana\", 5000], [\"orange\", 4000]], columns=[\"Name\",\"Price\"])\n",
    "d.head()"
   ]
  },
  {
   "cell_type": "markdown",
   "metadata": {},
   "source": [
    "# Pandas Data 불러오기"
   ]
  },
  {
   "cell_type": "code",
   "execution_count": 24,
   "metadata": {},
   "outputs": [],
   "source": [
    "# Pandas.read_csv(\"file_path\")"
   ]
  },
  {
   "cell_type": "code",
   "execution_count": 25,
   "metadata": {
    "scrolled": true
   },
   "outputs": [
    {
     "data": {
      "text/html": [
       "<div>\n",
       "<style scoped>\n",
       "    .dataframe tbody tr th:only-of-type {\n",
       "        vertical-align: middle;\n",
       "    }\n",
       "\n",
       "    .dataframe tbody tr th {\n",
       "        vertical-align: top;\n",
       "    }\n",
       "\n",
       "    .dataframe thead th {\n",
       "        text-align: right;\n",
       "    }\n",
       "</style>\n",
       "<table border=\"1\" class=\"dataframe\">\n",
       "  <thead>\n",
       "    <tr style=\"text-align: right;\">\n",
       "      <th></th>\n",
       "      <th>caseno</th>\n",
       "      <th>SepalLength</th>\n",
       "      <th>SepalWidth</th>\n",
       "      <th>PetalLength</th>\n",
       "      <th>PetalWidth</th>\n",
       "      <th>Species</th>\n",
       "    </tr>\n",
       "  </thead>\n",
       "  <tbody>\n",
       "    <tr>\n",
       "      <th>0</th>\n",
       "      <td>1</td>\n",
       "      <td>5.1</td>\n",
       "      <td>3.5</td>\n",
       "      <td>1.4</td>\n",
       "      <td>0.2</td>\n",
       "      <td>setosa</td>\n",
       "    </tr>\n",
       "    <tr>\n",
       "      <th>1</th>\n",
       "      <td>2</td>\n",
       "      <td>4.9</td>\n",
       "      <td>3.0</td>\n",
       "      <td>1.4</td>\n",
       "      <td>0.2</td>\n",
       "      <td>setosa</td>\n",
       "    </tr>\n",
       "    <tr>\n",
       "      <th>2</th>\n",
       "      <td>3</td>\n",
       "      <td>4.7</td>\n",
       "      <td>3.2</td>\n",
       "      <td>1.3</td>\n",
       "      <td>0.2</td>\n",
       "      <td>setosa</td>\n",
       "    </tr>\n",
       "    <tr>\n",
       "      <th>3</th>\n",
       "      <td>4</td>\n",
       "      <td>4.6</td>\n",
       "      <td>3.1</td>\n",
       "      <td>1.5</td>\n",
       "      <td>0.2</td>\n",
       "      <td>setosa</td>\n",
       "    </tr>\n",
       "    <tr>\n",
       "      <th>4</th>\n",
       "      <td>5</td>\n",
       "      <td>5.0</td>\n",
       "      <td>3.6</td>\n",
       "      <td>1.4</td>\n",
       "      <td>0.2</td>\n",
       "      <td>setosa</td>\n",
       "    </tr>\n",
       "  </tbody>\n",
       "</table>\n",
       "</div>"
      ],
      "text/plain": [
       "   caseno  SepalLength  SepalWidth  PetalLength  PetalWidth Species\n",
       "0       1          5.1         3.5          1.4         0.2  setosa\n",
       "1       2          4.9         3.0          1.4         0.2  setosa\n",
       "2       3          4.7         3.2          1.3         0.2  setosa\n",
       "3       4          4.6         3.1          1.5         0.2  setosa\n",
       "4       5          5.0         3.6          1.4         0.2  setosa"
      ]
     },
     "execution_count": 25,
     "metadata": {},
     "output_type": "execute_result"
    }
   ],
   "source": [
    "df = pd.read_csv(\"./data/iris.csv\")\n",
    "df.head()"
   ]
  },
  {
   "cell_type": "code",
   "execution_count": 26,
   "metadata": {
    "scrolled": true
   },
   "outputs": [
    {
     "data": {
      "text/html": [
       "<div>\n",
       "<style scoped>\n",
       "    .dataframe tbody tr th:only-of-type {\n",
       "        vertical-align: middle;\n",
       "    }\n",
       "\n",
       "    .dataframe tbody tr th {\n",
       "        vertical-align: top;\n",
       "    }\n",
       "\n",
       "    .dataframe thead th {\n",
       "        text-align: right;\n",
       "    }\n",
       "</style>\n",
       "<table border=\"1\" class=\"dataframe\">\n",
       "  <thead>\n",
       "    <tr style=\"text-align: right;\">\n",
       "      <th></th>\n",
       "      <th>caseno</th>\n",
       "      <th>SepalLength</th>\n",
       "      <th>SepalWidth</th>\n",
       "      <th>PetalLength</th>\n",
       "      <th>PetalWidth</th>\n",
       "    </tr>\n",
       "  </thead>\n",
       "  <tbody>\n",
       "    <tr>\n",
       "      <th>count</th>\n",
       "      <td>150.000000</td>\n",
       "      <td>150.000000</td>\n",
       "      <td>150.000000</td>\n",
       "      <td>150.000000</td>\n",
       "      <td>150.000000</td>\n",
       "    </tr>\n",
       "    <tr>\n",
       "      <th>mean</th>\n",
       "      <td>75.500000</td>\n",
       "      <td>5.843333</td>\n",
       "      <td>3.057333</td>\n",
       "      <td>3.758000</td>\n",
       "      <td>1.199333</td>\n",
       "    </tr>\n",
       "    <tr>\n",
       "      <th>std</th>\n",
       "      <td>43.445368</td>\n",
       "      <td>0.828066</td>\n",
       "      <td>0.435866</td>\n",
       "      <td>1.765298</td>\n",
       "      <td>0.762238</td>\n",
       "    </tr>\n",
       "    <tr>\n",
       "      <th>min</th>\n",
       "      <td>1.000000</td>\n",
       "      <td>4.300000</td>\n",
       "      <td>2.000000</td>\n",
       "      <td>1.000000</td>\n",
       "      <td>0.100000</td>\n",
       "    </tr>\n",
       "    <tr>\n",
       "      <th>25%</th>\n",
       "      <td>38.250000</td>\n",
       "      <td>5.100000</td>\n",
       "      <td>2.800000</td>\n",
       "      <td>1.600000</td>\n",
       "      <td>0.300000</td>\n",
       "    </tr>\n",
       "    <tr>\n",
       "      <th>50%</th>\n",
       "      <td>75.500000</td>\n",
       "      <td>5.800000</td>\n",
       "      <td>3.000000</td>\n",
       "      <td>4.350000</td>\n",
       "      <td>1.300000</td>\n",
       "    </tr>\n",
       "    <tr>\n",
       "      <th>75%</th>\n",
       "      <td>112.750000</td>\n",
       "      <td>6.400000</td>\n",
       "      <td>3.300000</td>\n",
       "      <td>5.100000</td>\n",
       "      <td>1.800000</td>\n",
       "    </tr>\n",
       "    <tr>\n",
       "      <th>max</th>\n",
       "      <td>150.000000</td>\n",
       "      <td>7.900000</td>\n",
       "      <td>4.400000</td>\n",
       "      <td>6.900000</td>\n",
       "      <td>2.500000</td>\n",
       "    </tr>\n",
       "  </tbody>\n",
       "</table>\n",
       "</div>"
      ],
      "text/plain": [
       "           caseno  SepalLength  SepalWidth  PetalLength  PetalWidth\n",
       "count  150.000000   150.000000  150.000000   150.000000  150.000000\n",
       "mean    75.500000     5.843333    3.057333     3.758000    1.199333\n",
       "std     43.445368     0.828066    0.435866     1.765298    0.762238\n",
       "min      1.000000     4.300000    2.000000     1.000000    0.100000\n",
       "25%     38.250000     5.100000    2.800000     1.600000    0.300000\n",
       "50%     75.500000     5.800000    3.000000     4.350000    1.300000\n",
       "75%    112.750000     6.400000    3.300000     5.100000    1.800000\n",
       "max    150.000000     7.900000    4.400000     6.900000    2.500000"
      ]
     },
     "execution_count": 26,
     "metadata": {},
     "output_type": "execute_result"
    }
   ],
   "source": [
    "# 데이터의 대략적인 수치값들을 얻을 수 있다.\n",
    "df.describe()"
   ]
  },
  {
   "cell_type": "markdown",
   "metadata": {},
   "source": [
    "# Matplotlib"
   ]
  },
  {
   "cell_type": "code",
   "execution_count": 27,
   "metadata": {},
   "outputs": [],
   "source": [
    "# 라이브러리 호출\n",
    "import matplotlib.pyplot as plt\n",
    "\n",
    "# 주피터 노트북에서 그래프를 표시하는 옵션\n",
    "%matplotlib inline"
   ]
  },
  {
   "cell_type": "code",
   "execution_count": 28,
   "metadata": {},
   "outputs": [
    {
     "data": {
      "text/plain": [
       "[<matplotlib.lines.Line2D at 0x264db7504a8>]"
      ]
     },
     "execution_count": 28,
     "metadata": {},
     "output_type": "execute_result"
    },
    {
     "data": {
      "image/png": "[encoded data removed]",
      "text/plain": [
       "<Figure size 432x288 with 1 Axes>"
      ]
     },
     "metadata": {
      "needs_background": "light"
     },
     "output_type": "display_data"
    }
   ],
   "source": [
    "import matplotlib.pyplot as plt\n",
    "import numpy as np\n",
    "\n",
    "X = [1,3,5,7,9]\n",
    "Y = [100,200,300,400,500]\n",
    "plt.plot(X,Y)"
   ]
  },
  {
   "cell_type": "markdown",
   "metadata": {},
   "source": [
    "# 코사인 함수 그리기"
   ]
  },
  {
   "cell_type": "code",
   "execution_count": 29,
   "metadata": {},
   "outputs": [
    {
     "data": {
      "text/plain": [
       "[<matplotlib.lines.Line2D at 0x264db7f4a20>]"
      ]
     },
     "execution_count": 29,
     "metadata": {},
     "output_type": "execute_result"
    },
    {
     "data": {
      "image/png": "[encoded data removed]",
      "text/plain": [
       "<Figure size 432x288 with 1 Axes>"
      ]
     },
     "metadata": {
      "needs_background": "light"
     },
     "output_type": "display_data"
    }
   ],
   "source": [
    "x = np.linspace(-2*np.pi, 2*np. pi, 128)\n",
    "y = np.cos(x)\n",
    "\n",
    "plt.plot(x,y)"
   ]
  },
  {
   "cell_type": "markdown",
   "metadata": {},
   "source": [
    "# 판다스 데이터 시각화"
   ]
  },
  {
   "cell_type": "code",
   "execution_count": 30,
   "metadata": {
    "scrolled": true
   },
   "outputs": [
    {
     "data": {
      "text/plain": [
       "<matplotlib.axes._subplots.AxesSubplot at 0x264db832630>"
      ]
     },
     "execution_count": 30,
     "metadata": {},
     "output_type": "execute_result"
    },
    {
     "data": {
      "image/png": "[encoded data removed]",
      "text/plain": [
       "<Figure size 432x288 with 1 Axes>"
      ]
     },
     "metadata": {
      "needs_background": "light"
     },
     "output_type": "display_data"
    }
   ],
   "source": [
    "import pandas as pd\n",
    "import numpy as np\n",
    "import matplotlib.pyplot as plt\n",
    "\n",
    "# 데이터 불러오기 \n",
    "iris_df = pd.read_csv(\"./data/iris.csv\")\n",
    "iris_df.head()\n",
    "\n",
    "# 데이터 시각화\n",
    "iris_df.plot()"
   ]
  },
  {
   "cell_type": "markdown",
   "metadata": {},
   "source": [
    "# 정규표현식 라이브러리 Re\n",
    "re는 파이썬 정규 표현식(Regular expression) 라이브러리다. 다른 라이브러리와 다르게 파이썬 내장 라이브러리이므로 별다른 설치없이 바로 사용 가능하다. re를 사용해 문자열을 쉽게 다를 수 있기 때문에 문자열 데이터를 주로 다루는 자연어 처리 분야에서 많이 사용한다. 특히 전처리 과정에서 많이 사용하며, 특정 문자열을 제거하거나 검색 혹은 치환 등에 주로 사용한다."
   ]
  },
  {
   "cell_type": "markdown",
   "metadata": {},
   "source": [
    "# 정규 표현식에 사용하는 기호\n",
    " - . : 줄 바꿈을 제외한 모든 문자\n",
    " - ^ : 문자열의 시작\n",
    " - $ : 문자열의 끝\n",
    " - '* : 앞에 있는 문자가 0회 이상 반복된 문자열\n",
    " - '+ : 앞에 있는 문자가 1회 이상 반복된 문자열\n",
    " - {m} : 앞 문자를 m회 반복하는 문자열\n",
    " - {m,n} : 앞 문자를 m~n회 반복하는 문자열\n",
    " - ? : 앞 문자가 나오거나 나오지 않는 문자열. ({0,1}과 동일)\n",
    " - \\d : 숫자\n",
    " - \\D : 숫자가 아닌 문자\n",
    " - \\w : 문자 혹은 숫자\n",
    " - \\W : 문자 혹은 숫자가 아닌것\n",
    " - (...) : 괄호 안의 모든 정규 표현식을 만족하는 문자\n",
    " - [abc] : a,b,c 중 한 개의 문자와 일치"
   ]
  },
  {
   "cell_type": "markdown",
   "metadata": {},
   "source": [
    "# re 함수"
   ]
  },
  {
   "cell_type": "code",
   "execution_count": 31,
   "metadata": {},
   "outputs": [
    {
     "name": "stdout",
     "output_type": "stream",
     "text": [
      "(\\w+)은 문자 혹은 숫자를 찾는다. : <_sre.SRE_Match object; span=(0, 3), match='wow'>\n",
      "(\\W+)는 문자 혹은 숫자가 아닌 것을 찾는다. : <_sre.SRE_Match object; span=(3, 5), match=', '>\n",
      "띄어쓰기를 기준으로 나누기 : ['wow', '', 'it', 'is', 'world', 'of', 'word']\n",
      "7 candy에서 7을 number로 바꾸기 : number candy\n"
     ]
    }
   ],
   "source": [
    "import re\n",
    "\n",
    "# re.compile(pattern) : 특정 기호를 정규 표현식 개체로 만들어준다.\n",
    "pattern = \"\\W+\"\n",
    "re_pattern = re.compile(pattern)\n",
    "\n",
    "# research(pattern, string) : 해당 문자열에서 정규 표현식에 해당하는 첫 부분을 찾는다.\n",
    "print(\"(\\w+)은 문자 혹은 숫자를 찾는다. :\",re.search(\"(\\w+)\", \"wow, it is awesome\"))\n",
    "print(\"(\\W+)는 문자 혹은 숫자가 아닌 것을 찾는다. :\",re.search(\"(\\W+)\", \"wow, it is awesome\"))\n",
    "\n",
    "# re.split(pattern, string) : 해당 문자열에서 특정 패턴으로 문자열을 나눠서 리스트로 만든다.\n",
    "print(\"띄어쓰기를 기준으로 나누기 :\", re.split(\"\\W\", \"wow, it is world of word\"))\n",
    "\n",
    "# re.sub(pattern, repl, string) : 문자열(string)에서 특정 패턴(pattern)을 만족시키는 문자를 사용자가 정의한 문자(repl)로 치환한다.\n",
    "print(\"7 candy에서 7을 number로 바꾸기 :\", re.sub(\"\\d\", \"number\", \"7 candy\"))"
   ]
  },
  {
   "cell_type": "markdown",
   "metadata": {},
   "source": [
    "# Beautiful Soup\n",
    "Beautiful Soup은 주로 웹 크롤링에 사용되는 라이브러리로서 HTML 문서 혹은 XML 문서에서 데이터를 불러오는데 사용된다. 주로 자연어 처리 분야에서는 HTML 태그를 제거하기 위해 사용한다."
   ]
  },
  {
   "cell_type": "code",
   "execution_count": 40,
   "metadata": {},
   "outputs": [
    {
     "name": "stdout",
     "output_type": "stream",
     "text": [
      " 이 글은 BeautifulSoup 라이브러리를 사용하는 방법에 대한 글입니다. 라이브러리를 사용하면 쉽게 HTML 태그를 제거할 수 있습니다.\n"
     ]
    }
   ],
   "source": [
    "from bs4 import BeautifulSoup\n",
    "\n",
    "str = \"<body> 이 글은 BeautifulSoup 라이브러리를 사용하는 방법에 대한 글입니다.<br></br> 라이브러리를 사용하면 쉽게 HTML 태그를 제거할 수 있습니다.\"\n",
    "\n",
    "# HTML 태그를 제외한 텍스트만 가져온다.\n",
    "str = BeautifulSoup(str, \"html5lib\").get_text()\n",
    "\n",
    "print(str)"
   ]
  }
 ],
 "metadata": {
  "kernelspec": {
   "display_name": "Python 3",
   "language": "python",
   "name": "python3"
  },
  "language_info": {
   "codemirror_mode": {
    "name": "ipython",
    "version": 3
   },
   "file_extension": ".py",
   "mimetype": "text/x-python",
   "name": "python",
   "nbconvert_exporter": "python",
   "pygments_lexer": "ipython3",
   "version": "3.6.7"
  }
 },
 "nbformat": 4,
 "nbformat_minor": 2
}
