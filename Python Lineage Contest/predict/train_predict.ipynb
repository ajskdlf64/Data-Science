{
 "cells": [
  {
   "cell_type": "code",
   "execution_count": 1,
   "metadata": {},
   "outputs": [],
   "source": [
    "# -*- coding: utf-8 -*-\n",
    "\n",
    "# ------------------------------------------------------------------------ #\n",
    "# INPUT\n",
    "#    predicted_label : 예측 답안지 파일 경로 \n",
    "#    actual_label    : 실제 답안지 파일 경로\n",
    "#\n",
    "# OUTPUT             : 유저 기대이익 총합 \n",
    "#\n",
    "#\n",
    "# - 예측 답안지를 실제 답안과 비교하여 유저 기대이익 총합을 계산하는 함수\n",
    "# - 함수의 계산방식은 문제 설명서에 기술된 기대이익 산출식과 동일\n",
    "# ------------------------------------------------------------------------ #\n",
    "\n",
    "#필요한 모듈 import\n",
    "import pandas as pd\n",
    "import numpy as np\n",
    "import sys\n",
    "\n",
    "def score_function(predict_label, actual_label):\n",
    "    \n",
    "    predict = pd.read_csv(predict_label, engine='python') # 예측 답안 파일 불러오기\n",
    "    actual = pd.read_csv(actual_label,engine='python') # 실제 답안 파일 불러오기 \n",
    "\n",
    "    predict.acc_id = predict.acc_id.astype('int')\n",
    "    predict = predict.sort_values(by =['acc_id'], axis = 0) # 예측 답안을 acc_id 기준으로 정렬 \n",
    "    predict = predict.reset_index(drop = True)\n",
    "    actual.acc_id = actual.acc_id.astype('int')\n",
    "    actual = actual.sort_values(by =['acc_id'], axis = 0) # 실제 답안을 acc_id 기준으로 정렬\n",
    "    actual = actual.reset_index(drop=True)\n",
    "    \n",
    "    if predict.acc_id.equals(actual.acc_id) == False:\n",
    "        print('acc_id of predicted and actual label does not match')\n",
    "        sys.exit() # 예측 답안의 acc_id와 실제 답안의 acc_id가 다른 경우 에러처리 \n",
    "    else:\n",
    "            \n",
    "        S, alpha, L, sigma = 30, 0.01, 0.1, 15  \n",
    "        cost, gamma, add_rev = 0,0,0 \n",
    "        profit_result = []\n",
    "        survival_time_pred = list(predict.survival_time)\n",
    "        amount_spent_pred = list(predict.amount_spent)\n",
    "        survival_time_actual = list(actual.survival_time)\n",
    "        amount_spent_actual = list(actual.amount_spent)    \n",
    "        for i in range(len(survival_time_pred)):\n",
    "            if survival_time_pred[i] == 64 :                 \n",
    "                cost = 0\n",
    "                optimal_cost = 0\n",
    "            else:\n",
    "                cost = alpha * S * amount_spent_pred[i]                    #비용 계산\n",
    "                optimal_cost = alpha * S * amount_spent_actual[i]          #적정비용 계산 \n",
    "            \n",
    "            if optimal_cost == 0:\n",
    "                gamma = 0\n",
    "            elif cost / optimal_cost < L:\n",
    "                gamma = 0\n",
    "            elif cost / optimal_cost >= 1:\n",
    "                gamma = 1\n",
    "            else:\n",
    "                gamma = (cost)/((1-L)*optimal_cost) - L/(1-L)              #반응률 계산\n",
    "            \n",
    "            if survival_time_pred[i] == 64 or survival_time_actual[i] == 64:\n",
    "                T_k = 0\n",
    "            else:\n",
    "                T_k = S * np.exp(-((survival_time_pred[i] - survival_time_actual[i])**2)/(2*(sigma)**2))    #추가 생존기간 계산\n",
    "                \n",
    "            add_rev = T_k * amount_spent_actual[i]                         #잔존가치 계산\n",
    "    \n",
    "           \n",
    "            profit = gamma * add_rev - cost                                #유저별 기대이익 계산\n",
    "            profit_result.append(profit)\n",
    "            \n",
    "        score = sum(profit_result)                                         #기대이익 총합 계산\n",
    "        \n",
    "        print(score)\n",
    "        \n",
    "    return score"
   ]
  },
  {
   "cell_type": "code",
   "execution_count": 2,
   "metadata": {
    "scrolled": true
   },
   "outputs": [
    {
     "name": "stdout",
     "output_type": "stream",
     "text": [
      "91693.76240883442\n"
     ]
    },
    {
     "data": {
      "text/plain": [
       "91693.76240883442"
      ]
     },
     "execution_count": 2,
     "metadata": {},
     "output_type": "execute_result"
    }
   ],
   "source": [
    "# 모두 정답일 경우!!!!!!!\n",
    "score_function(\"../raw/train_label.csv\",\"../raw/train_label.csv\")"
   ]
  },
  {
   "cell_type": "code",
   "execution_count": 3,
   "metadata": {},
   "outputs": [
    {
     "name": "stdout",
     "output_type": "stream",
     "text": [
      "4935.156343114882\n"
     ]
    },
    {
     "data": {
      "text/plain": [
       "4935.156343114882"
      ]
     },
     "execution_count": 3,
     "metadata": {},
     "output_type": "execute_result"
    }
   ],
   "source": [
    "# 우리 모델 score!!!!!\n",
    "score_function(\"../predict//train_predict.csv\",\"../raw/train_label.csv\")"
   ]
  }
 ],
 "metadata": {
  "kernelspec": {
   "display_name": "Python 3",
   "language": "python",
   "name": "python3"
  },
  "language_info": {
   "codemirror_mode": {
    "name": "ipython",
    "version": 3
   },
   "file_extension": ".py",
   "mimetype": "text/x-python",
   "name": "python",
   "nbconvert_exporter": "python",
   "pygments_lexer": "ipython3",
   "version": "3.6.7"
  }
 },
 "nbformat": 4,
 "nbformat_minor": 2
}
