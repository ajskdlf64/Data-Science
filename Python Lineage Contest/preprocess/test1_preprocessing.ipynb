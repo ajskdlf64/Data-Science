{
 "cells": [
  {
   "cell_type": "markdown",
   "metadata": {},
   "source": [
    "# Library"
   ]
  },
  {
   "cell_type": "code",
   "execution_count": 1,
   "metadata": {},
   "outputs": [],
   "source": [
    "# 라이브러리\n",
    "import numpy as np\n",
    "import pandas as pd\n",
    "import matplotlib.pyplot as plt\n",
    "import seaborn as sns\n",
    "\n",
    "# 데이터 로딩\n",
    "activity = pd.read_csv(\"../raw/test1_activity.csv\")\n",
    "trade = pd.read_csv(\"../raw/test1_trade.csv\")\n",
    "combat = pd.read_csv(\"../raw/test1_combat.csv\")\n",
    "pledge = pd.read_csv(\"../raw/test1_pledge.csv\")\n",
    "payment = pd.read_csv(\"../raw/test1_payment.csv\")\n",
    "\n",
    "# 결과 저장소\n",
    "data = pd.DataFrame()\n",
    "data[\"acc_id\"] = activity.groupby(\"acc_id\").sum().index\n",
    "data = data.set_index(\"acc_id\")"
   ]
  },
  {
   "cell_type": "markdown",
   "metadata": {},
   "source": [
    "# Exp"
   ]
  },
  {
   "cell_type": "code",
   "execution_count": 2,
   "metadata": {},
   "outputs": [],
   "source": [
    "# 정규화\n",
    "df = activity.groupby(\"acc_id\").sum()\n",
    "df[\"solo_exp\"] = (df[\"solo_exp\"] - np.min(df[\"solo_exp\"])) / (np.max(df[\"solo_exp\"]) - np.min(df[\"solo_exp\"]))\n",
    "df[\"party_exp\"] = (df[\"party_exp\"] - np.min(df[\"party_exp\"])) / (np.max(df[\"party_exp\"]) - np.min(df[\"party_exp\"]))\n",
    "df[\"quest_exp\"] = (df[\"quest_exp\"] - np.min(df[\"quest_exp\"])) / (np.max(df[\"quest_exp\"]) - np.min(df[\"quest_exp\"]))\n",
    "\n",
    "# solo 총합 : 1562.4532319004568\n",
    "# party 총합 : 687.5262832002279\n",
    "# quest 총합 : 147.341705183852\n",
    "\n",
    "# solo 가중치 : 0.65\n",
    "# party 가중치 : 0.28\n",
    "# quest 가중치 : 0.07\n",
    "\n",
    "data[\"Exp\"] = 0.65 * df[\"solo_exp\"] + 0.28 * df[\"party_exp\"] + 0.07 * df[\"quest_exp\"]"
   ]
  },
  {
   "cell_type": "markdown",
   "metadata": {},
   "source": [
    "# Playtime"
   ]
  },
  {
   "cell_type": "code",
   "execution_count": 3,
   "metadata": {},
   "outputs": [],
   "source": [
    "df = activity.groupby(\"acc_id\").sum()\n",
    "df[\"playtime\"] = (df[\"playtime\"] - np.min(df[\"playtime\"])) / (np.max(df[\"playtime\"]) - np.min(df[\"playtime\"]))\n",
    "data[\"Playtime\"] = df[\"playtime\"]"
   ]
  },
  {
   "cell_type": "markdown",
   "metadata": {},
   "source": [
    "# Game Money Change"
   ]
  },
  {
   "cell_type": "code",
   "execution_count": 4,
   "metadata": {},
   "outputs": [],
   "source": [
    "df = activity.groupby(\"acc_id\").sum()\n",
    "df[\"gmc\"] = (df[\"game_money_change\"]-np.min(df[\"game_money_change\"]))/(np.max(df[\"game_money_change\"])-np.min(df[\"game_money_change\"]))\n",
    "data[\"Game_Money_Change\"] = df[\"gmc\"]"
   ]
  },
  {
   "cell_type": "markdown",
   "metadata": {},
   "source": [
    "# Pledge"
   ]
  },
  {
   "cell_type": "code",
   "execution_count": 5,
   "metadata": {},
   "outputs": [],
   "source": [
    "df = pledge.groupby(\"acc_id\").sum()\n",
    "df[\"play_char_cnt\"] = (df[\"play_char_cnt\"] - np.min(df[\"play_char_cnt\"])) / (np.max(df[\"play_char_cnt\"]) - np.min(df[\"play_char_cnt\"]))\n",
    "df[\"combat_char_cnt\"] = (df[\"combat_char_cnt\"] - np.min(df[\"combat_char_cnt\"])) / (np.max(df[\"combat_char_cnt\"]) - np.min(df[\"combat_char_cnt\"]))\n",
    "df[\"pledge_combat_cnt\"] = (df[\"pledge_combat_cnt\"] - np.min(df[\"pledge_combat_cnt\"])) / (np.max(df[\"pledge_combat_cnt\"]) - np.min(df[\"pledge_combat_cnt\"]))\n",
    "df[\"random_attacker_cnt\"] = (df[\"random_attacker_cnt\"] - np.min(df[\"random_attacker_cnt\"])) / (np.max(df[\"random_attacker_cnt\"]) - np.min(df[\"random_attacker_cnt\"]))\n",
    "df[\"random_defender_cnt\"] = (df[\"random_defender_cnt\"] - np.min(df[\"random_defender_cnt\"])) / (np.max(df[\"random_defender_cnt\"]) - np.min(df[\"random_defender_cnt\"]))\n",
    "df[\"same_pledge_cnt\"] = (df[\"same_pledge_cnt\"] - np.min(df[\"same_pledge_cnt\"])) / (np.max(df[\"same_pledge_cnt\"]) - np.min(df[\"same_pledge_cnt\"]))\n",
    "df[\"temp_cnt\"] = (df[\"temp_cnt\"] - np.min(df[\"temp_cnt\"])) / (np.max(df[\"temp_cnt\"]) - np.min(df[\"temp_cnt\"]))\n",
    "df[\"etc_cnt\"] = (df[\"etc_cnt\"] - np.min(df[\"etc_cnt\"])) / (np.max(df[\"etc_cnt\"]) - np.min(df[\"etc_cnt\"]))\n",
    "df[\"combat_play_time\"] = (df[\"combat_play_time\"] - np.min(df[\"combat_play_time\"])) / (np.max(df[\"combat_play_time\"]) - np.min(df[\"combat_play_time\"]))\n",
    "df[\"non_combat_play_time\"] = (df[\"non_combat_play_time\"] - np.min(df[\"non_combat_play_time\"])) / (np.max(df[\"non_combat_play_time\"]) - np.min(df[\"non_combat_play_time\"]))\n",
    "\n",
    "# 가중치\n",
    "# play_char_cnt : 0.11\n",
    "# combat_char_cnt : 0.19\n",
    "# pledge_combat_cnt : 0.06\n",
    "# random_attacker_cnt : 0.09\n",
    "# random_defender_cnt : 0.03\n",
    "# same_pledge_cnt : 0.1\n",
    "# temp_cnt : 0.08\n",
    "# etc_cnt : 0.15\n",
    "# combat_play_time : 0.16\n",
    "# non_combat_play_time : 0.03\n",
    "\n",
    "data[\"Pledge\"] = 0.11 * df[\"play_char_cnt\"] + 0.19 * df[\"combat_char_cnt\"] + 0.06 * df[\"pledge_combat_cnt\"] + 0.09 * df[\"random_attacker_cnt\"] + 0.03 * df[\"random_defender_cnt\"] + 0.1 * df[\"same_pledge_cnt\"] + 0.08 * df[\"temp_cnt\"] + 0.15 * df[\"etc_cnt\"] + 0.16 * df[\"combat_play_time\"] + 0.03 * df[\"non_combat_play_time\"]"
   ]
  },
  {
   "cell_type": "markdown",
   "metadata": {},
   "source": [
    "# Combat"
   ]
  },
  {
   "cell_type": "code",
   "execution_count": 6,
   "metadata": {},
   "outputs": [],
   "source": [
    "df = combat.groupby(\"acc_id\").sum()\n",
    "df[\"pledge_cnt\"] = (df[\"pledge_cnt\"] - np.min(df[\"pledge_cnt\"])) / (np.max(df[\"pledge_cnt\"]) - np.min(df[\"pledge_cnt\"]))\n",
    "df[\"random_attacker_cnt\"] = (df[\"random_attacker_cnt\"] - np.min(df[\"random_attacker_cnt\"])) / (np.max(df[\"random_attacker_cnt\"]) - np.min(df[\"random_attacker_cnt\"]))\n",
    "df[\"random_defender_cnt\"] = (df[\"random_defender_cnt\"] - np.min(df[\"random_defender_cnt\"])) / (np.max(df[\"random_defender_cnt\"]) - np.min(df[\"random_defender_cnt\"]))\n",
    "df[\"temp_cnt\"] = (df[\"temp_cnt\"] - np.min(df[\"temp_cnt\"])) / (np.max(df[\"temp_cnt\"]) - np.min(df[\"temp_cnt\"]))\n",
    "df[\"same_pledge_cnt\"] = (df[\"same_pledge_cnt\"] - np.min(df[\"same_pledge_cnt\"])) / (np.max(df[\"same_pledge_cnt\"]) - np.min(df[\"same_pledge_cnt\"]))\n",
    "df[\"etc_cnt\"] = (df[\"etc_cnt\"] - np.min(df[\"etc_cnt\"])) / (np.max(df[\"etc_cnt\"]) - np.min(df[\"etc_cnt\"]))\n",
    "df[\"num_opponent\"] = (df[\"num_opponent\"] - np.min(df[\"num_opponent\"])) / (np.max(df[\"num_opponent\"]) - np.min(df[\"num_opponent\"]))\n",
    "\n",
    "# 가중치\n",
    "# pledge_cnt = 0.15\n",
    "# random_attacker_cnt : 0.03\n",
    "# random_defender_cnt : 0.25\n",
    "# temp_cnt : 0.03\n",
    "# same_pledge_cnt : 0.11\n",
    "# etc_cnt : 0.11\n",
    "# num_opponent : 0.32\n",
    "\n",
    "data[\"Combat\"] = 0.15 * df[\"pledge_cnt\"] + 0.03 * df[\"random_attacker_cnt\"] + 0.25 * df[\"random_defender_cnt\"] + 0.03 * df[\"temp_cnt\"] + 0.11 * df[\"same_pledge_cnt\"] + 0.11 * df[\"etc_cnt\"] + 0.32 * df[\"num_opponent\"]"
   ]
  },
  {
   "cell_type": "markdown",
   "metadata": {},
   "source": [
    "# Result"
   ]
  },
  {
   "cell_type": "code",
   "execution_count": 7,
   "metadata": {},
   "outputs": [],
   "source": [
    "data = data.fillna(0)\n",
    "data.to_csv(\"./test1_preprocessing.csv\", header = True, index = True)"
   ]
  }
 ],
 "metadata": {
  "kernelspec": {
   "display_name": "Python 3",
   "language": "python",
   "name": "python3"
  },
  "language_info": {
   "codemirror_mode": {
    "name": "ipython",
    "version": 3
   },
   "file_extension": ".py",
   "mimetype": "text/x-python",
   "name": "python",
   "nbconvert_exporter": "python",
   "pygments_lexer": "ipython3",
   "version": "3.6.7"
  }
 },
 "nbformat": 4,
 "nbformat_minor": 2
}
