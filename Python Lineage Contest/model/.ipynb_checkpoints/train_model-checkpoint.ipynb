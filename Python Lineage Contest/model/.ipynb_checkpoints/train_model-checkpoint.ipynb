{
 "cells": [
  {
   "cell_type": "markdown",
   "metadata": {},
   "source": [
    "# Library"
   ]
  },
  {
   "cell_type": "code",
   "execution_count": 1,
   "metadata": {},
   "outputs": [],
   "source": [
    "# 기본 라이브러리\n",
    "import numpy as np\n",
    "import pandas as pd\n",
    "import matplotlib.pyplot as plt\n",
    "import seaborn as sns\n",
    "\n",
    "# 모델 라이브러리\n",
    "from xgboost import XGBClassifier \n",
    "from xgboost import XGBRegressor\n",
    "from sklearn.model_selection import train_test_split\n",
    "from sklearn.metrics import confusion_matrix\n",
    "\n",
    "# 경고창 무시\n",
    "import warnings\n",
    "warnings.filterwarnings(\"ignore\")\n",
    "\n",
    "# 데이터\n",
    "train =  pd.read_csv(\"../preprocess/train_preprocessing.csv\", index_col=\"acc_id\").sort_index()\n",
    "train_label = pd.read_csv(\"../raw/train_label.csv\", index_col=\"acc_id\").sort_index()"
   ]
  },
  {
   "cell_type": "markdown",
   "metadata": {},
   "source": [
    "# train : 30,000  / val = 10,000 / test1 = 20,000"
   ]
  },
  {
   "cell_type": "code",
   "execution_count": 2,
   "metadata": {},
   "outputs": [],
   "source": [
    "# 데이터 분리\n",
    "from sklearn.model_selection import train_test_split\n",
    "X_train, X_val, y_train, y_val = train_test_split(train, train_label, test_size=0.25, random_state=42)"
   ]
  },
  {
   "cell_type": "markdown",
   "metadata": {},
   "source": [
    "# model1 : 결제 vs 미결제"
   ]
  },
  {
   "cell_type": "code",
   "execution_count": 3,
   "metadata": {
    "scrolled": true
   },
   "outputs": [
    {
     "name": "stdout",
     "output_type": "stream",
     "text": [
      "[결제 vs 미결제]\n",
      "train of Accuracy : 0.7261333333333333\n",
      "val of Accuracy : 0.7126\n",
      "\n",
      "[train counfusion matrix]\n",
      "[[ 5050  7219]\n",
      " [  997 16734]]\n",
      "\n",
      "[val counfusion matrix]\n",
      "[[1641 2528]\n",
      " [ 346 5485]]\n"
     ]
    }
   ],
   "source": [
    "# 결제와 미결제 표현\n",
    "# 미결제 : 0\n",
    "# 결제 : 1\n",
    "y_train_1th = y_train[\"amount_spent\"].apply(lambda x : 0 if x == 0 else 1).values\n",
    "y_val_1th = y_val[\"amount_spent\"].apply(lambda x : 0 if x == 0 else 1).values\n",
    "\n",
    "# 모델 생성 및 적용\n",
    "import xgboost as xgb\n",
    "model1 = xgb.XGBRFClassifier(random_state=42, \n",
    "                             n_estimators=300, \n",
    "                             max_depth=3, \n",
    "                             max_delta_step=3,\n",
    "                             gamma=0.5).fit(X_train, y_train_1th)\n",
    "\n",
    "# 정확도 계산\n",
    "print(\"[결제 vs 미결제]\")\n",
    "print(\"train of Accuracy :\", model1.score(X_train, y_train_1th))\n",
    "print(\"val of Accuracy :\", model1.score(X_val, y_val_1th))\n",
    "\n",
    "# 오분류표\n",
    "from sklearn.metrics import confusion_matrix\n",
    "print(\"\\n[train counfusion matrix]\")\n",
    "print(confusion_matrix(y_train_1th, model1.predict(X_train)))\n",
    "print(\"\\n[val counfusion matrix]\")\n",
    "print(confusion_matrix(y_val_1th, model1.predict(X_val)))"
   ]
  },
  {
   "cell_type": "code",
   "execution_count": 4,
   "metadata": {},
   "outputs": [],
   "source": [
    "# train 분리\n",
    "train_non_money = train[model1.predict(train) == 0]\n",
    "train_money = train[model1.predict(train) == 1]"
   ]
  },
  {
   "cell_type": "markdown",
   "metadata": {},
   "source": [
    "# model2 : 생존 vs 이탈"
   ]
  },
  {
   "cell_type": "code",
   "execution_count": 5,
   "metadata": {},
   "outputs": [
    {
     "name": "stdout",
     "output_type": "stream",
     "text": [
      "[생존 vs 이탈]\n",
      "train of Accuracy : 0.6831666666666667\n",
      "val of Accuracy : 0.6837\n",
      "\n",
      "[train counfusion matrix]\n",
      "[[ 7112  6315]\n",
      " [ 3190 13383]]\n",
      "\n",
      "[val counfusion matrix]\n",
      "[[2439 2138]\n",
      " [1025 4398]]\n"
     ]
    }
   ],
   "source": [
    "# 생존과 이탈\n",
    "# 이탈 : 0\n",
    "# 생존 : 1\n",
    "y_train_2th = y_train[\"survival_time\"].apply(lambda x : 0 if x < 64 else 1).values\n",
    "y_val_2th = y_val[\"survival_time\"].apply(lambda x : 0 if x < 64 else 1).values\n",
    "\n",
    "# 모델 생성 및 적용\n",
    "import xgboost as xgb\n",
    "model2 = xgb.XGBRFClassifier(random_state=42, \n",
    "                             n_estimators=300, \n",
    "                             max_depth=3, \n",
    "                             max_delta_step=3,\n",
    "                             gamma=0.5).fit(X_train, y_train_2th)\n",
    "\n",
    "# 정확도 계산\n",
    "print(\"[생존 vs 이탈]\")\n",
    "print(\"train of Accuracy :\", model2.score(X_train, y_train_2th))\n",
    "print(\"val of Accuracy :\", model2.score(X_val, y_val_2th))\n",
    "\n",
    "# 오분류표\n",
    "from sklearn.metrics import confusion_matrix\n",
    "print(\"\\n[train counfusion matrix]\")\n",
    "print(confusion_matrix(y_train_2th, model2.predict(X_train)))\n",
    "print(\"\\n[val counfusion matrix]\")\n",
    "print(confusion_matrix(y_val_2th, model2.predict(X_val)))"
   ]
  },
  {
   "cell_type": "code",
   "execution_count": 6,
   "metadata": {},
   "outputs": [],
   "source": [
    "# 결제 이력이 있는 유저 중에 생존과 이탈을 분리\n",
    "train_money_survival = train_money[model2.predict(train_money) == 1]\n",
    "train_money_exit = train_money[model2.predict(train_money) == 0]"
   ]
  },
  {
   "cell_type": "markdown",
   "metadata": {},
   "source": [
    "# 유저군 분리"
   ]
  },
  {
   "cell_type": "code",
   "execution_count": 7,
   "metadata": {},
   "outputs": [
    {
     "name": "stdout",
     "output_type": "stream",
     "text": [
      "Train User : 40,000\n",
      "결제이력이 없는 유저 : 8,034\n",
      "결제이력이 있는 생존 유저 : 19,661\n",
      "결제이력이 있는 이탈 유저  : 12,305\n"
     ]
    }
   ],
   "source": [
    "print(\"Train User : 40,000\")\n",
    "print(\"결제이력이 없는 유저 : {:,}\" .format(len(train_non_money)))\n",
    "print(\"결제이력이 있는 생존 유저 : {:,}\" .format(len(train_money_survival)))\n",
    "print(\"결제이력이 있는 이탈 유저  : {:,}\" .format(len(train_money_exit)))"
   ]
  },
  {
   "cell_type": "markdown",
   "metadata": {},
   "source": [
    "# 결제이력이 있고 이탈한 유저"
   ]
  },
  {
   "cell_type": "code",
   "execution_count": 8,
   "metadata": {
    "scrolled": false
   },
   "outputs": [
    {
     "name": "stdout",
     "output_type": "stream",
     "text": [
      "[결제 금액 결정계수]\n",
      "train of Accuracy : 0.1531524443777713\n",
      "val of Accuracy : 0.06849031977922204\n",
      "[결제 금액 결정계수]\n",
      "train of Accuracy : 0.1873940776085552\n",
      "val of Accuracy : 0.10414882140069726\n"
     ]
    }
   ],
   "source": [
    "# 결제 이력이 있고 이탈한 유저만 선택\n",
    "y_train_3th = y_train.loc[y_train[\"survival_time\"] < 64].loc[y_train[\"amount_spent\"] != 0]\n",
    "y_val_3th = y_val.loc[y_val[\"survival_time\"] < 64].loc[y_val[\"amount_spent\"] != 0]\n",
    "X_train_3th = X_train.loc[y_train_3th.index].values\n",
    "X_val_3th = X_val.loc[y_val_3th.index].values\n",
    "\n",
    "\n",
    "# 결제 금액 예측 모델\n",
    "import xgboost as xgb\n",
    "model3 = xgb.XGBRegressor(random_state=42,\n",
    "                          objective=\"reg:squarederror\").fit(X_train_3th, np.log(y_train_3th[\"amount_spent\"]))\n",
    "\n",
    "# 정확도 계산\n",
    "print(\"[결제 금액 결정계수]\")\n",
    "print(\"train of Accuracy :\", model3.score(X_train_3th, np.log(y_train_3th[\"amount_spent\"])))\n",
    "print(\"val of Accuracy :\", model3.score(X_val_3th, np.log(y_val_3th[\"amount_spent\"])))\n",
    "\n",
    "\n",
    "# 이탈 시점 예측 모델\n",
    "import xgboost as xgb\n",
    "model4 = xgb.XGBRegressor(random_state=42,\n",
    "                          objective=\"reg:squarederror\").fit(X_train_3th, y_train_3th[\"survival_time\"])\n",
    "\n",
    "# 정확도 계산\n",
    "print(\"[결제 금액 결정계수]\")\n",
    "print(\"train of Accuracy :\", model4.score(X_train_3th, y_train_3th[\"survival_time\"]))\n",
    "print(\"val of Accuracy :\", model4.score(X_val_3th, y_val_3th[\"survival_time\"]))"
   ]
  },
  {
   "cell_type": "markdown",
   "metadata": {},
   "source": [
    "# 최종 예측 결과"
   ]
  },
  {
   "cell_type": "code",
   "execution_count": 9,
   "metadata": {},
   "outputs": [],
   "source": [
    "# 결제이력이 없는 유저\n",
    "result_0 = pd.DataFrame()\n",
    "result_0[\"acc_id\"] = train_non_money.index\n",
    "result_0[\"amount_spent\"] = 0\n",
    "result_0[\"survival_time\"] = 64\n",
    "result_0 = result_0.set_index(\"acc_id\").sort_index()\n",
    "\n",
    "# 결제이력이 있는 생존 유저\n",
    "result_1 = pd.DataFrame()\n",
    "result_1[\"acc_id\"] = train_money_survival.index\n",
    "result_1[\"amount_spent\"] = 0.05\n",
    "result_1[\"survival_time\"] = 64\n",
    "result_1 = result_1.set_index(\"acc_id\").sort_index()\n",
    "\n",
    "# 결제이력이 있고 이탈한 유저\n",
    "result_2 = pd.DataFrame()\n",
    "result_2[\"acc_id\"] = train_money_exit.index\n",
    "result_2[\"amount_spent\"] =np.exp(model3.predict(train_money_exit.values))\n",
    "result_2[\"survival_time\"] = model4.predict(train_money_exit.values)\n",
    "result_2 = result_2.set_index(\"acc_id\").sort_index()\n",
    "\n",
    "# 다듬기\n",
    "result_2[\"survival_time\"] = np.round(result_2[\"survival_time\"])\n",
    "\n",
    "# 최종 결과\n",
    "train_predict = pd.concat([result_0, result_1, result_2]).sort_index()\n",
    "train_predict.to_csv(\"../predict/train_predict.csv\", header=True, index=True)"
   ]
  }
 ],
 "metadata": {
  "kernelspec": {
   "display_name": "Python 3",
   "language": "python",
   "name": "python3"
  },
  "language_info": {
   "codemirror_mode": {
    "name": "ipython",
    "version": 3
   },
   "file_extension": ".py",
   "mimetype": "text/x-python",
   "name": "python",
   "nbconvert_exporter": "python",
   "pygments_lexer": "ipython3",
   "version": "3.6.7"
  }
 },
 "nbformat": 4,
 "nbformat_minor": 2
}
