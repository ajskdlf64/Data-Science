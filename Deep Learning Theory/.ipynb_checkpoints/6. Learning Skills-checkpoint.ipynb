{
 "cells": [
  {
   "cell_type": "markdown",
   "metadata": {},
   "source": [
    "# 학습 관련 기술들"
   ]
  },
  {
   "cell_type": "markdown",
   "metadata": {},
   "source": [
    "이번에는 가중치 매개변수의 최적값을 탐색하는 최적화 방법, 가중치 매개변수 초깃값, 하이퍼파라미터 설정 방법 등 신경망에서 중요한 학습 기술들에 대해 알아보자. \n",
    "\n",
    "\n",
    "오버피팅의 대응책인 가중치 감소와 드롭아웃 등의 정규화 방법도 중요하다.\n",
    "\n",
    "또 최근 많은 연구에서 배치 정규화도 사용되고 있다."
   ]
  },
  {
   "cell_type": "markdown",
   "metadata": {},
   "source": [
    "# 매개변수 갱신\n",
    "\n",
    "신경망 학습의 목적은 손실 함수의 값을 가능한 한 낮추는 매개변수를 찾는 것이다. 이는 곧 매개변수의 최적값을 찾는 문제이며, 이러한 문제를 푸는 것을 **최적화(Optimization)** 이라고 한다. 안타깝게도 신경망 최적화는 굉장히 어려운 문제이다. 매개변수 공간은 매우 넓고 복잡해서 최적의 솔루션은 쉽게 찾기 힘들다. 수식을 풀어 순식간에 최솟값을 구하는 방법 같은 것은 없다."
   ]
  }
 ],
 "metadata": {
  "kernelspec": {
   "display_name": "Python 3",
   "language": "python",
   "name": "python3"
  },
  "language_info": {
   "codemirror_mode": {
    "name": "ipython",
    "version": 3
   },
   "file_extension": ".py",
   "mimetype": "text/x-python",
   "name": "python",
   "nbconvert_exporter": "python",
   "pygments_lexer": "ipython3",
   "version": "3.6.7"
  }
 },
 "nbformat": 4,
 "nbformat_minor": 2
}
