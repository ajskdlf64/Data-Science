{
 "cells": [
  {
   "cell_type": "markdown",
   "metadata": {},
   "source": [
    "자연어 처리 분야는 크게 4가지가 있다\n",
    "\n",
    "\n",
    "텍스트 분류 / 텍스트 유사도 / 텍스트 생성 / 기계 이해\n",
    " \n",
    " - 텍스트 분류란 텍스트를 입력으로 받아, 텍스트가 어떤 종류의 범주(Class)에 속하는지를 구분하는 작업이다. 예를 들면 메일을 입력 받아 스팸 메일인지 아닌지 구분을 하거나, 텍스트의 의도가 제안,거절,수락 등의 어떤 의도인지를 분류하는 작업이다.\n",
    " \n",
    " \n",
    " - 텍스트 유사도란 텍스트와 텍스트 사이의 의미적 유사성을 측정하는 작업이다. 자연어 처리 분야에서 오래 동안 연구되어진 분야이며, 타영역에서 활용도가 매우 높다."
   ]
  }
 ],
 "metadata": {
  "kernelspec": {
   "display_name": "Python 3",
   "language": "python",
   "name": "python3"
  },
  "language_info": {
   "codemirror_mode": {
    "name": "ipython",
    "version": 3
   },
   "file_extension": ".py",
   "mimetype": "text/x-python",
   "name": "python",
   "nbconvert_exporter": "python",
   "pygments_lexer": "ipython3",
   "version": "3.6.7"
  }
 },
 "nbformat": 4,
 "nbformat_minor": 2
}
